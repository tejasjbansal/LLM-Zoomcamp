{
 "cells": [
  {
   "cell_type": "code",
   "execution_count": 45,
   "id": "ab86c3c0-a2e4-454b-8d28-771d996f17df",
   "metadata": {},
   "outputs": [],
   "source": [
    "import json\n",
    "import time\n",
    "import pandas as pd"
   ]
  },
  {
   "cell_type": "markdown",
   "id": "4b8ca648-a841-4920-a736-0d2ead46840b",
   "metadata": {},
   "source": [
    "#### Ingestion"
   ]
  },
  {
   "cell_type": "code",
   "execution_count": 3,
   "id": "84abb62d-45e8-47be-839a-f39dcf61a754",
   "metadata": {},
   "outputs": [],
   "source": [
    "df = pd.read_csv('../data/data.csv')"
   ]
  },
  {
   "cell_type": "code",
   "execution_count": 4,
   "id": "051d88a3-583e-4986-8166-0787d17d394e",
   "metadata": {},
   "outputs": [
    {
     "data": {
      "text/html": [
       "<div>\n",
       "<style scoped>\n",
       "    .dataframe tbody tr th:only-of-type {\n",
       "        vertical-align: middle;\n",
       "    }\n",
       "\n",
       "    .dataframe tbody tr th {\n",
       "        vertical-align: top;\n",
       "    }\n",
       "\n",
       "    .dataframe thead th {\n",
       "        text-align: right;\n",
       "    }\n",
       "</style>\n",
       "<table border=\"1\" class=\"dataframe\">\n",
       "  <thead>\n",
       "    <tr style=\"text-align: right;\">\n",
       "      <th></th>\n",
       "      <th>id</th>\n",
       "      <th>exercise_name</th>\n",
       "      <th>type_of_activity</th>\n",
       "      <th>type_of_equipment</th>\n",
       "      <th>body_part</th>\n",
       "      <th>type</th>\n",
       "      <th>muscle_groups_activated</th>\n",
       "      <th>instructions</th>\n",
       "    </tr>\n",
       "  </thead>\n",
       "  <tbody>\n",
       "    <tr>\n",
       "      <th>0</th>\n",
       "      <td>0</td>\n",
       "      <td>Push-Ups</td>\n",
       "      <td>Strength</td>\n",
       "      <td>Bodyweight</td>\n",
       "      <td>Upper Body</td>\n",
       "      <td>Push</td>\n",
       "      <td>Pectorals, Triceps, Deltoids</td>\n",
       "      <td>Start in a high plank position with your hands...</td>\n",
       "    </tr>\n",
       "    <tr>\n",
       "      <th>1</th>\n",
       "      <td>1</td>\n",
       "      <td>Squats</td>\n",
       "      <td>Strength</td>\n",
       "      <td>Bodyweight</td>\n",
       "      <td>Lower Body</td>\n",
       "      <td>Push</td>\n",
       "      <td>Quadriceps, Glutes, Hamstrings</td>\n",
       "      <td>Stand with feet shoulder-width apart. Lower yo...</td>\n",
       "    </tr>\n",
       "    <tr>\n",
       "      <th>2</th>\n",
       "      <td>2</td>\n",
       "      <td>Plank</td>\n",
       "      <td>Strength/Mobility</td>\n",
       "      <td>Bodyweight</td>\n",
       "      <td>Core</td>\n",
       "      <td>Hold</td>\n",
       "      <td>Rectus Abdominis, Transverse Abdominis</td>\n",
       "      <td>Start in a forearm plank position with your el...</td>\n",
       "    </tr>\n",
       "    <tr>\n",
       "      <th>3</th>\n",
       "      <td>3</td>\n",
       "      <td>Deadlift</td>\n",
       "      <td>Strength</td>\n",
       "      <td>Barbell</td>\n",
       "      <td>Lower Body</td>\n",
       "      <td>Pull</td>\n",
       "      <td>Glutes, Hamstrings, Lower Back</td>\n",
       "      <td>Stand with feet hip-width apart, barbell in fr...</td>\n",
       "    </tr>\n",
       "    <tr>\n",
       "      <th>4</th>\n",
       "      <td>4</td>\n",
       "      <td>Bicep Curls</td>\n",
       "      <td>Strength</td>\n",
       "      <td>Dumbbells</td>\n",
       "      <td>Upper Body</td>\n",
       "      <td>Pull</td>\n",
       "      <td>Biceps, Forearms</td>\n",
       "      <td>Stand with a dumbbell in each hand, arms fully...</td>\n",
       "    </tr>\n",
       "  </tbody>\n",
       "</table>\n",
       "</div>"
      ],
      "text/plain": [
       "   id exercise_name   type_of_activity type_of_equipment   body_part  type  \\\n",
       "0   0      Push-Ups           Strength        Bodyweight  Upper Body  Push   \n",
       "1   1        Squats           Strength        Bodyweight  Lower Body  Push   \n",
       "2   2         Plank  Strength/Mobility        Bodyweight        Core  Hold   \n",
       "3   3      Deadlift           Strength           Barbell  Lower Body  Pull   \n",
       "4   4   Bicep Curls           Strength         Dumbbells  Upper Body  Pull   \n",
       "\n",
       "                  muscle_groups_activated  \\\n",
       "0            Pectorals, Triceps, Deltoids   \n",
       "1          Quadriceps, Glutes, Hamstrings   \n",
       "2  Rectus Abdominis, Transverse Abdominis   \n",
       "3          Glutes, Hamstrings, Lower Back   \n",
       "4                        Biceps, Forearms   \n",
       "\n",
       "                                        instructions  \n",
       "0  Start in a high plank position with your hands...  \n",
       "1  Stand with feet shoulder-width apart. Lower yo...  \n",
       "2  Start in a forearm plank position with your el...  \n",
       "3  Stand with feet hip-width apart, barbell in fr...  \n",
       "4  Stand with a dumbbell in each hand, arms fully...  "
      ]
     },
     "execution_count": 4,
     "metadata": {},
     "output_type": "execute_result"
    }
   ],
   "source": [
    "df.head()"
   ]
  },
  {
   "cell_type": "code",
   "execution_count": 5,
   "id": "e0815a95-e364-4682-8b70-184b1e965e8c",
   "metadata": {},
   "outputs": [],
   "source": [
    "documents = df.to_dict(orient='records')"
   ]
  },
  {
   "cell_type": "code",
   "execution_count": 6,
   "id": "07cd308c-97e9-4528-8049-c139a593ebd7",
   "metadata": {},
   "outputs": [
    {
     "data": {
      "text/plain": [
       "{'id': 0,\n",
       " 'exercise_name': 'Push-Ups',\n",
       " 'type_of_activity': 'Strength',\n",
       " 'type_of_equipment': 'Bodyweight',\n",
       " 'body_part': 'Upper Body',\n",
       " 'type': 'Push',\n",
       " 'muscle_groups_activated': 'Pectorals, Triceps, Deltoids',\n",
       " 'instructions': 'Start in a high plank position with your hands under your shoulders. Lower your body until your chest nearly touches the floor. Push back up to the starting position.'}"
      ]
     },
     "execution_count": 6,
     "metadata": {},
     "output_type": "execute_result"
    }
   ],
   "source": [
    "documents[0]"
   ]
  },
  {
   "cell_type": "code",
   "execution_count": 7,
   "id": "a923d810-1cd7-4a5c-887c-c2dc2dc31082",
   "metadata": {},
   "outputs": [],
   "source": [
    "import minsearch"
   ]
  },
  {
   "cell_type": "code",
   "execution_count": 8,
   "id": "7a0816ae-4271-4159-85dd-85a7bec6c061",
   "metadata": {},
   "outputs": [],
   "source": [
    "index = minsearch.Index(\n",
    "    text_fields=['exercise_name', 'type_of_activity', 'type_of_equipment', 'body_part',\n",
    "       'type', 'muscle_groups_activated', 'instructions'],\n",
    "    keyword_fields=['id']\n",
    ")"
   ]
  },
  {
   "cell_type": "code",
   "execution_count": 9,
   "id": "62573d4e-19b6-4e3e-a909-5872c15950b9",
   "metadata": {},
   "outputs": [
    {
     "data": {
      "text/plain": [
       "<minsearch.Index at 0x7c3a112881d0>"
      ]
     },
     "execution_count": 9,
     "metadata": {},
     "output_type": "execute_result"
    }
   ],
   "source": [
    "index.fit(documents)"
   ]
  },
  {
   "cell_type": "markdown",
   "id": "887760b5-9c07-4dd8-9174-176a7bc901fd",
   "metadata": {},
   "source": [
    "#### RAG flow"
   ]
  },
  {
   "cell_type": "code",
   "execution_count": 10,
   "id": "9a346627-b254-4547-94d8-126f3bc255dc",
   "metadata": {},
   "outputs": [],
   "source": [
    "import os\n",
    "from groq import Groq"
   ]
  },
  {
   "cell_type": "code",
   "execution_count": 11,
   "id": "6c80d1a3-ac22-4182-a34d-e627e2473c71",
   "metadata": {},
   "outputs": [],
   "source": [
    "client = Groq(api_key=os.environ.get(\"GROQ_API_KEY\"))"
   ]
  },
  {
   "cell_type": "code",
   "execution_count": 12,
   "id": "5583ff1b-985c-4b27-bcd5-66bb20582eb4",
   "metadata": {},
   "outputs": [],
   "source": [
    "def search(query):\n",
    "    boost = {}\n",
    "\n",
    "    results = index.search(\n",
    "        query=query,\n",
    "        filter_dict={},\n",
    "        boost_dict=boost,\n",
    "        num_results=10\n",
    "    )\n",
    "\n",
    "    return results"
   ]
  },
  {
   "cell_type": "code",
   "execution_count": 13,
   "id": "81aeee9a-688b-4383-827a-dca90cc46178",
   "metadata": {},
   "outputs": [],
   "source": [
    "prompt_template = \"\"\"\n",
    "You're a fitness insrtuctor. Answer the QUESTION based on the CONTEXT from our exercises database.\n",
    "Use only the facts from the CONTEXT when answering the QUESTION.\n",
    "\n",
    "QUESTION: {question}\n",
    "\n",
    "CONTEXT:\n",
    "{context}\n",
    "\"\"\".strip()\n",
    "\n",
    "entry_template = \"\"\"\n",
    "exercise_name: {exercise_name}\n",
    "type_of_activity: {type_of_activity}\n",
    "type_of_equipment: {type_of_equipment}\n",
    "body_part: {body_part}\n",
    "type: {type}\n",
    "muscle_groups_activated: {muscle_groups_activated}\n",
    "instructions: {instructions}\n",
    "\"\"\".strip()\n",
    "\n",
    "def build_prompt(query, search_results):\n",
    "    context = \"\"\n",
    "    \n",
    "    for doc in search_results:\n",
    "        context = context + entry_template.format(**doc) + \"\\n\\n\"\n",
    "\n",
    "    prompt = prompt_template.format(question=query, context=context).strip()\n",
    "    return prompt\n"
   ]
  },
  {
   "cell_type": "code",
   "execution_count": 14,
   "id": "69ed72f2-8e3b-4288-a7ad-d0fdbbbd3e70",
   "metadata": {},
   "outputs": [],
   "source": [
    "def llm(prompt):\n",
    "    response = client.chat.completions.create(\n",
    "        model='llama3-8b-8192',\n",
    "        messages=[{\"role\": \"user\", \"content\": prompt}]\n",
    "    )\n",
    "    \n",
    "    return response.choices[0].message.content"
   ]
  },
  {
   "cell_type": "code",
   "execution_count": 15,
   "id": "187fbc06-cafc-49ed-963c-63fd7c88a760",
   "metadata": {},
   "outputs": [],
   "source": [
    "def rag(query, model='gpt-4o-mini'):\n",
    "    search_results = search(query)\n",
    "    prompt = build_prompt(query, search_results)\n",
    "    # print(prompt)\n",
    "    answer = llm(prompt)\n",
    "    return answer"
   ]
  },
  {
   "cell_type": "code",
   "execution_count": 16,
   "id": "8e6b30ef-2272-459f-a234-fd38626594fa",
   "metadata": {},
   "outputs": [
    {
     "name": "stdout",
     "output_type": "stream",
     "text": [
      "Based on the context, the Lat Pulldown is considered a strength training activity.\n"
     ]
    }
   ],
   "source": [
    "question = 'Is the Lat Pulldown considered a strength training activity, and if so, why?'\n",
    "answer = rag(question)\n",
    "print(answer)"
   ]
  },
  {
   "cell_type": "markdown",
   "id": "bffd41f4-c819-4ea9-86f6-a91ea62e750d",
   "metadata": {},
   "source": [
    "#### Retrieval evaluation"
   ]
  },
  {
   "cell_type": "code",
   "execution_count": 17,
   "id": "08ffe104-75a4-4db4-b9c6-13b19bc98f41",
   "metadata": {},
   "outputs": [],
   "source": [
    "df_question = pd.read_csv('../data/ground-truth-retrieval.csv')"
   ]
  },
  {
   "cell_type": "code",
   "execution_count": 18,
   "id": "6b46a238-c66d-4178-8016-c9ab7022a028",
   "metadata": {},
   "outputs": [
    {
     "data": {
      "text/html": [
       "<div>\n",
       "<style scoped>\n",
       "    .dataframe tbody tr th:only-of-type {\n",
       "        vertical-align: middle;\n",
       "    }\n",
       "\n",
       "    .dataframe tbody tr th {\n",
       "        vertical-align: top;\n",
       "    }\n",
       "\n",
       "    .dataframe thead th {\n",
       "        text-align: right;\n",
       "    }\n",
       "</style>\n",
       "<table border=\"1\" class=\"dataframe\">\n",
       "  <thead>\n",
       "    <tr style=\"text-align: right;\">\n",
       "      <th></th>\n",
       "      <th>id</th>\n",
       "      <th>question</th>\n",
       "    </tr>\n",
       "  </thead>\n",
       "  <tbody>\n",
       "    <tr>\n",
       "      <th>0</th>\n",
       "      <td>0</td>\n",
       "      <td>What is the starting position for doing push-ups?</td>\n",
       "    </tr>\n",
       "    <tr>\n",
       "      <th>1</th>\n",
       "      <td>0</td>\n",
       "      <td>Which muscle groups are activated during push-...</td>\n",
       "    </tr>\n",
       "    <tr>\n",
       "      <th>2</th>\n",
       "      <td>0</td>\n",
       "      <td>How do you know when to push back up while doi...</td>\n",
       "    </tr>\n",
       "    <tr>\n",
       "      <th>3</th>\n",
       "      <td>0</td>\n",
       "      <td>Do you need any equipment to perform push-ups?</td>\n",
       "    </tr>\n",
       "    <tr>\n",
       "      <th>4</th>\n",
       "      <td>0</td>\n",
       "      <td>What part of the body do push-ups primarily ta...</td>\n",
       "    </tr>\n",
       "  </tbody>\n",
       "</table>\n",
       "</div>"
      ],
      "text/plain": [
       "   id                                           question\n",
       "0   0  What is the starting position for doing push-ups?\n",
       "1   0  Which muscle groups are activated during push-...\n",
       "2   0  How do you know when to push back up while doi...\n",
       "3   0     Do you need any equipment to perform push-ups?\n",
       "4   0  What part of the body do push-ups primarily ta..."
      ]
     },
     "execution_count": 18,
     "metadata": {},
     "output_type": "execute_result"
    }
   ],
   "source": [
    "df_question.head()"
   ]
  },
  {
   "cell_type": "code",
   "execution_count": 19,
   "id": "343a68a5-9cbc-494d-b055-300bce38421a",
   "metadata": {},
   "outputs": [],
   "source": [
    "ground_truth = df_question.to_dict(orient='records')"
   ]
  },
  {
   "cell_type": "code",
   "execution_count": 20,
   "id": "1b1c94d0-7412-4cf0-a02f-e1e2e73832b8",
   "metadata": {},
   "outputs": [
    {
     "data": {
      "text/plain": [
       "{'id': 0, 'question': 'What is the starting position for doing push-ups?'}"
      ]
     },
     "execution_count": 20,
     "metadata": {},
     "output_type": "execute_result"
    }
   ],
   "source": [
    "ground_truth[0]"
   ]
  },
  {
   "cell_type": "code",
   "execution_count": 21,
   "id": "431a0f75-5c82-4f0e-8a7f-fe6d215745e1",
   "metadata": {},
   "outputs": [],
   "source": [
    "def hit_rate(relevance_total):\n",
    "    cnt = 0\n",
    "\n",
    "    for line in relevance_total:\n",
    "        if True in line:\n",
    "            cnt = cnt + 1\n",
    "\n",
    "    return cnt / len(relevance_total)\n",
    "\n",
    "def mrr(relevance_total):\n",
    "    total_score = 0.0\n",
    "\n",
    "    for line in relevance_total:\n",
    "        for rank in range(len(line)):\n",
    "            if line[rank] == True:\n",
    "                total_score = total_score + 1 / (rank + 1)\n",
    "\n",
    "    return total_score / len(relevance_total)"
   ]
  },
  {
   "cell_type": "code",
   "execution_count": 22,
   "id": "fc3ad508-3c0e-4c14-9ccd-b9377e320f97",
   "metadata": {},
   "outputs": [],
   "source": [
    "def minsearch_search(query):\n",
    "    boost = {}\n",
    "\n",
    "    results = index.search(\n",
    "        query=query,\n",
    "        filter_dict={},\n",
    "        boost_dict=boost,\n",
    "        num_results=10\n",
    "    )\n",
    "\n",
    "    return results"
   ]
  },
  {
   "cell_type": "code",
   "execution_count": 23,
   "id": "59f119f8-aa28-40fe-8387-3f7814adda2b",
   "metadata": {},
   "outputs": [],
   "source": [
    "def evaluate(ground_truth, search_function):\n",
    "    relevance_total = []\n",
    "\n",
    "    for q in tqdm(ground_truth):\n",
    "        doc_id = q['id']\n",
    "        results = search_function(q)\n",
    "        relevance = [d['id'] == doc_id for d in results]\n",
    "        relevance_total.append(relevance)\n",
    "\n",
    "    return {\n",
    "        'hit_rate': hit_rate(relevance_total),\n",
    "        'mrr': mrr(relevance_total),\n",
    "    }"
   ]
  },
  {
   "cell_type": "code",
   "execution_count": 24,
   "id": "4c06bbca-1fd3-45d7-99e8-90fd662fa361",
   "metadata": {},
   "outputs": [],
   "source": [
    "from tqdm.auto import tqdm"
   ]
  },
  {
   "cell_type": "code",
   "execution_count": 25,
   "id": "e409b182-2a35-455b-baac-1fa76be13510",
   "metadata": {},
   "outputs": [
    {
     "data": {
      "application/vnd.jupyter.widget-view+json": {
       "model_id": "f3a372ab1bd34a8dab0f344e6bbc152f",
       "version_major": 2,
       "version_minor": 0
      },
      "text/plain": [
       "  0%|          | 0/1035 [00:00<?, ?it/s]"
      ]
     },
     "metadata": {},
     "output_type": "display_data"
    },
    {
     "data": {
      "text/plain": [
       "{'hit_rate': 0.9478260869565217, 'mrr': 0.8227612913120158}"
      ]
     },
     "execution_count": 25,
     "metadata": {},
     "output_type": "execute_result"
    }
   ],
   "source": [
    "evaluate(ground_truth, lambda q: minsearch_search(q['question']))"
   ]
  },
  {
   "cell_type": "markdown",
   "id": "4e342d87-16d9-4334-9ffb-850ffb6c6b35",
   "metadata": {},
   "source": [
    "#### Finding the best parameters"
   ]
  },
  {
   "cell_type": "code",
   "execution_count": 26,
   "id": "e2572367-4a7c-48a7-a63e-c716ea49ef5b",
   "metadata": {},
   "outputs": [],
   "source": [
    "df_validation = df_question[:100]\n",
    "df_test = df_question[100:]"
   ]
  },
  {
   "cell_type": "code",
   "execution_count": 27,
   "id": "bb24c99d-8a61-4c95-a874-3f05e55299a2",
   "metadata": {},
   "outputs": [],
   "source": [
    "import random\n",
    "\n",
    "def simple_optimize(param_ranges, objective_function, n_iterations=10):\n",
    "    best_params = None\n",
    "    best_score = float('-inf')  # Assuming we're minimizing. Use float('-inf') if maximizing.\n",
    "\n",
    "    for _ in range(n_iterations):\n",
    "        # Generate random parameters\n",
    "        current_params = {}\n",
    "        for param, (min_val, max_val) in param_ranges.items():\n",
    "            if isinstance(min_val, int) and isinstance(max_val, int):\n",
    "                current_params[param] = random.randint(min_val, max_val)\n",
    "            else:\n",
    "                current_params[param] = random.uniform(min_val, max_val)\n",
    "        \n",
    "        # Evaluate the objective function\n",
    "        current_score = objective_function(current_params)\n",
    "        \n",
    "        # Update best if current is better\n",
    "        if current_score > best_score:  # Change to > if maximizing\n",
    "            best_score = current_score\n",
    "            best_params = current_params\n",
    "    \n",
    "    return best_params, best_score"
   ]
  },
  {
   "cell_type": "code",
   "execution_count": 28,
   "id": "8847e418-b7ea-4785-a5ab-4ac4c41dc637",
   "metadata": {},
   "outputs": [],
   "source": [
    "gt_val = df_validation.to_dict(orient='records')"
   ]
  },
  {
   "cell_type": "code",
   "execution_count": 29,
   "id": "fbe6d48a-563c-44f2-80ac-350618fbbc10",
   "metadata": {},
   "outputs": [],
   "source": [
    "def minsearch_search(query, boost=None):\n",
    "    if boost is None:\n",
    "        boost = {}\n",
    "\n",
    "    results = index.search(\n",
    "        query=query,\n",
    "        filter_dict={},\n",
    "        boost_dict=boost,\n",
    "        num_results=10\n",
    "    )\n",
    "\n",
    "    return results"
   ]
  },
  {
   "cell_type": "code",
   "execution_count": 30,
   "id": "26ddb23a-4e6e-48a0-8aad-e657616e82b7",
   "metadata": {},
   "outputs": [],
   "source": [
    "param_ranges = {\n",
    "    'exercise_name': (0.0, 3.0),\n",
    "    'type_of_activity': (0.0, 3.0),\n",
    "    'type_of_equipment': (0.0, 3.0),\n",
    "    'body_part': (0.0, 3.0),\n",
    "    'type': (0.0, 3.0),\n",
    "    'muscle_groups_activated': (0.0, 3.0),\n",
    "    'instructions': (0.0, 3.0),\n",
    "}\n",
    "\n",
    "def objective(boost_params):\n",
    "    def search_function(q):\n",
    "        return minsearch_search(q['question'], boost_params)\n",
    "\n",
    "    results = evaluate(gt_val, search_function)\n",
    "    return results['mrr']"
   ]
  },
  {
   "cell_type": "code",
   "execution_count": 31,
   "id": "2a17ffe9-7942-49c7-a682-ebafd9b48a1c",
   "metadata": {},
   "outputs": [
    {
     "data": {
      "application/vnd.jupyter.widget-view+json": {
       "model_id": "89ac2068a23f467e918af24c85d16bd5",
       "version_major": 2,
       "version_minor": 0
      },
      "text/plain": [
       "  0%|          | 0/100 [00:00<?, ?it/s]"
      ]
     },
     "metadata": {},
     "output_type": "display_data"
    },
    {
     "data": {
      "application/vnd.jupyter.widget-view+json": {
       "model_id": "b3c881a45a1742fa8f99393a93025b44",
       "version_major": 2,
       "version_minor": 0
      },
      "text/plain": [
       "  0%|          | 0/100 [00:00<?, ?it/s]"
      ]
     },
     "metadata": {},
     "output_type": "display_data"
    },
    {
     "data": {
      "application/vnd.jupyter.widget-view+json": {
       "model_id": "cedf3138e1064099a60a0e61a2516532",
       "version_major": 2,
       "version_minor": 0
      },
      "text/plain": [
       "  0%|          | 0/100 [00:00<?, ?it/s]"
      ]
     },
     "metadata": {},
     "output_type": "display_data"
    },
    {
     "data": {
      "application/vnd.jupyter.widget-view+json": {
       "model_id": "c1df0afd73824dfc827527ede0423cc4",
       "version_major": 2,
       "version_minor": 0
      },
      "text/plain": [
       "  0%|          | 0/100 [00:00<?, ?it/s]"
      ]
     },
     "metadata": {},
     "output_type": "display_data"
    },
    {
     "data": {
      "application/vnd.jupyter.widget-view+json": {
       "model_id": "487017c234654954906782be3945d421",
       "version_major": 2,
       "version_minor": 0
      },
      "text/plain": [
       "  0%|          | 0/100 [00:00<?, ?it/s]"
      ]
     },
     "metadata": {},
     "output_type": "display_data"
    },
    {
     "data": {
      "application/vnd.jupyter.widget-view+json": {
       "model_id": "97362d7ef89e470583df8b207a34de9b",
       "version_major": 2,
       "version_minor": 0
      },
      "text/plain": [
       "  0%|          | 0/100 [00:00<?, ?it/s]"
      ]
     },
     "metadata": {},
     "output_type": "display_data"
    },
    {
     "data": {
      "application/vnd.jupyter.widget-view+json": {
       "model_id": "3d6b117419644bd7905dac6e5a93ffb2",
       "version_major": 2,
       "version_minor": 0
      },
      "text/plain": [
       "  0%|          | 0/100 [00:00<?, ?it/s]"
      ]
     },
     "metadata": {},
     "output_type": "display_data"
    },
    {
     "data": {
      "application/vnd.jupyter.widget-view+json": {
       "model_id": "a575bc080c1c4bcaa3d4be459c5ab9cb",
       "version_major": 2,
       "version_minor": 0
      },
      "text/plain": [
       "  0%|          | 0/100 [00:00<?, ?it/s]"
      ]
     },
     "metadata": {},
     "output_type": "display_data"
    },
    {
     "data": {
      "application/vnd.jupyter.widget-view+json": {
       "model_id": "5165dcb585be449798d4b36a35cee4c3",
       "version_major": 2,
       "version_minor": 0
      },
      "text/plain": [
       "  0%|          | 0/100 [00:00<?, ?it/s]"
      ]
     },
     "metadata": {},
     "output_type": "display_data"
    },
    {
     "data": {
      "application/vnd.jupyter.widget-view+json": {
       "model_id": "d0915fc2d51c465c9244de3322784dac",
       "version_major": 2,
       "version_minor": 0
      },
      "text/plain": [
       "  0%|          | 0/100 [00:00<?, ?it/s]"
      ]
     },
     "metadata": {},
     "output_type": "display_data"
    },
    {
     "data": {
      "application/vnd.jupyter.widget-view+json": {
       "model_id": "307ba8d2f4b0449d925b0e839e902c7b",
       "version_major": 2,
       "version_minor": 0
      },
      "text/plain": [
       "  0%|          | 0/100 [00:00<?, ?it/s]"
      ]
     },
     "metadata": {},
     "output_type": "display_data"
    },
    {
     "data": {
      "application/vnd.jupyter.widget-view+json": {
       "model_id": "9b3abcee2465479aaf8f77d730f1b116",
       "version_major": 2,
       "version_minor": 0
      },
      "text/plain": [
       "  0%|          | 0/100 [00:00<?, ?it/s]"
      ]
     },
     "metadata": {},
     "output_type": "display_data"
    },
    {
     "data": {
      "application/vnd.jupyter.widget-view+json": {
       "model_id": "237a43148a4748aeb7f76e665259cf2a",
       "version_major": 2,
       "version_minor": 0
      },
      "text/plain": [
       "  0%|          | 0/100 [00:00<?, ?it/s]"
      ]
     },
     "metadata": {},
     "output_type": "display_data"
    },
    {
     "data": {
      "application/vnd.jupyter.widget-view+json": {
       "model_id": "c35287f8271f433e8046c45909e6bd4c",
       "version_major": 2,
       "version_minor": 0
      },
      "text/plain": [
       "  0%|          | 0/100 [00:00<?, ?it/s]"
      ]
     },
     "metadata": {},
     "output_type": "display_data"
    },
    {
     "data": {
      "application/vnd.jupyter.widget-view+json": {
       "model_id": "704bf3a6f1b34744995e92ed58fda42b",
       "version_major": 2,
       "version_minor": 0
      },
      "text/plain": [
       "  0%|          | 0/100 [00:00<?, ?it/s]"
      ]
     },
     "metadata": {},
     "output_type": "display_data"
    },
    {
     "data": {
      "application/vnd.jupyter.widget-view+json": {
       "model_id": "7d6f9e4603ff4963b95e8dd40e8c0d10",
       "version_major": 2,
       "version_minor": 0
      },
      "text/plain": [
       "  0%|          | 0/100 [00:00<?, ?it/s]"
      ]
     },
     "metadata": {},
     "output_type": "display_data"
    },
    {
     "data": {
      "application/vnd.jupyter.widget-view+json": {
       "model_id": "d642c6cdfbc8425ca974266cc4625fc4",
       "version_major": 2,
       "version_minor": 0
      },
      "text/plain": [
       "  0%|          | 0/100 [00:00<?, ?it/s]"
      ]
     },
     "metadata": {},
     "output_type": "display_data"
    },
    {
     "data": {
      "application/vnd.jupyter.widget-view+json": {
       "model_id": "89afbf7578ff4e75867e8cae1fe1d6a0",
       "version_major": 2,
       "version_minor": 0
      },
      "text/plain": [
       "  0%|          | 0/100 [00:00<?, ?it/s]"
      ]
     },
     "metadata": {},
     "output_type": "display_data"
    },
    {
     "data": {
      "application/vnd.jupyter.widget-view+json": {
       "model_id": "05c1f606be334703a59d36a30c69ee75",
       "version_major": 2,
       "version_minor": 0
      },
      "text/plain": [
       "  0%|          | 0/100 [00:00<?, ?it/s]"
      ]
     },
     "metadata": {},
     "output_type": "display_data"
    },
    {
     "data": {
      "application/vnd.jupyter.widget-view+json": {
       "model_id": "30d75d1de0ae4b29859ee4a209105547",
       "version_major": 2,
       "version_minor": 0
      },
      "text/plain": [
       "  0%|          | 0/100 [00:00<?, ?it/s]"
      ]
     },
     "metadata": {},
     "output_type": "display_data"
    },
    {
     "data": {
      "text/plain": [
       "({'exercise_name': 2.9941249333201334,\n",
       "  'type_of_activity': 0.23861327432056145,\n",
       "  'type_of_equipment': 0.10772112204503947,\n",
       "  'body_part': 1.3619845363234218,\n",
       "  'type': 2.3930789854162255,\n",
       "  'muscle_groups_activated': 1.5763234239197699,\n",
       "  'instructions': 1.770016102832984},\n",
       " 0.8411666666666666)"
      ]
     },
     "execution_count": 31,
     "metadata": {},
     "output_type": "execute_result"
    }
   ],
   "source": [
    "simple_optimize(param_ranges, objective, n_iterations=20)"
   ]
  },
  {
   "cell_type": "code",
   "execution_count": 32,
   "id": "b7ff3b77-dea1-4a8d-906b-d4e16233e05c",
   "metadata": {},
   "outputs": [
    {
     "data": {
      "application/vnd.jupyter.widget-view+json": {
       "model_id": "890ce60e41aa452c96054cf6a9b19aac",
       "version_major": 2,
       "version_minor": 0
      },
      "text/plain": [
       "  0%|          | 0/1035 [00:00<?, ?it/s]"
      ]
     },
     "metadata": {},
     "output_type": "display_data"
    },
    {
     "data": {
      "text/plain": [
       "{'hit_rate': 0.9526570048309179, 'mrr': 0.9050854995782533}"
      ]
     },
     "execution_count": 32,
     "metadata": {},
     "output_type": "execute_result"
    }
   ],
   "source": [
    "def minsearch_improved(query):\n",
    "    boost = {\n",
    "        'exercise_name': 2.9,\n",
    "        'type_of_activity': 2.3,\n",
    "        'type_of_equipment': 1.02,\n",
    "        'body_part': 0.12,\n",
    "        'type': 2.68,\n",
    "        'muscle_groups_activated': 2.63,\n",
    "        'instructions': 1.76\n",
    "    }\n",
    "\n",
    "    results = index.search(\n",
    "        query=query,\n",
    "        filter_dict={},\n",
    "        boost_dict=boost,\n",
    "        num_results=10\n",
    "    )\n",
    "\n",
    "    return results\n",
    "\n",
    "evaluate(ground_truth, lambda q: minsearch_improved(q['question']))"
   ]
  },
  {
   "cell_type": "markdown",
   "id": "57aa7838-b2d2-473c-9da4-1dccbfe55f5f",
   "metadata": {},
   "source": [
    "#### RAG evaluation"
   ]
  },
  {
   "cell_type": "code",
   "execution_count": 33,
   "id": "328da761-0844-48c6-a921-b84f966ba4b0",
   "metadata": {},
   "outputs": [],
   "source": [
    "prompt2_template = \"\"\"\n",
    "You are an expert evaluator for a RAG system.\n",
    "Your task is to analyze the relevance of the generated answer to the given question.\n",
    "Based on the relevance of the generated answer, you will classify it\n",
    "as \"NON_RELEVANT\", \"PARTLY_RELEVANT\", or \"RELEVANT\".\n",
    "\n",
    "Here is the data for evaluation:\n",
    "\n",
    "Question: {question}\n",
    "Generated Answer: {answer_llm}\n",
    "\n",
    "Please analyze the content and context of the generated answer in relation to the question\n",
    "and provide your evaluation in parsable JSON without using code blocks:\n",
    "\n",
    "{{\n",
    "  \"Relevance\": \"NON_RELEVANT\" | \"PARTLY_RELEVANT\" | \"RELEVANT\",\n",
    "  \"Explanation\": \"[Provide a brief explanation for your evaluation]\"\n",
    "}}\n",
    "\"\"\".strip()"
   ]
  },
  {
   "cell_type": "code",
   "execution_count": 34,
   "id": "4771c810-4b5f-4ef1-ad19-6ff1bb926c4c",
   "metadata": {},
   "outputs": [
    {
     "data": {
      "text/plain": [
       "1035"
      ]
     },
     "execution_count": 34,
     "metadata": {},
     "output_type": "execute_result"
    }
   ],
   "source": [
    "len(ground_truth)"
   ]
  },
  {
   "cell_type": "code",
   "execution_count": 38,
   "id": "3a63a16a-4229-40a7-9440-f5700af26c5c",
   "metadata": {},
   "outputs": [],
   "source": [
    "record = ground_truth[0]\n",
    "question = record['question']\n",
    "answer_llm = rag(question)"
   ]
  },
  {
   "cell_type": "code",
   "execution_count": 40,
   "id": "2f9a460c-8eab-4054-a27f-ce2ce41e4b4f",
   "metadata": {},
   "outputs": [
    {
     "name": "stdout",
     "output_type": "stream",
     "text": [
      "Based on the context, the starting position for doing push-ups is:\n",
      "\n",
      "**Start in a high plank position with your hands under your shoulders.**\n",
      "\n",
      "This is described in the instructions for the exercise \"Push-Ups\" under the context.\n"
     ]
    }
   ],
   "source": [
    "print(answer_llm)"
   ]
  },
  {
   "cell_type": "code",
   "execution_count": 41,
   "id": "a6d0f6f3-8107-45cc-a3ff-354002ec98cd",
   "metadata": {},
   "outputs": [
    {
     "name": "stdout",
     "output_type": "stream",
     "text": [
      "You are an expert evaluator for a RAG system.\n",
      "Your task is to analyze the relevance of the generated answer to the given question.\n",
      "Based on the relevance of the generated answer, you will classify it\n",
      "as \"NON_RELEVANT\", \"PARTLY_RELEVANT\", or \"RELEVANT\".\n",
      "\n",
      "Here is the data for evaluation:\n",
      "\n",
      "Question: What is the starting position for doing push-ups?\n",
      "Generated Answer: Based on the context, the starting position for doing push-ups is:\n",
      "\n",
      "**Start in a high plank position with your hands under your shoulders.**\n",
      "\n",
      "This is described in the instructions for the exercise \"Push-Ups\" under the context.\n",
      "\n",
      "Please analyze the content and context of the generated answer in relation to the question\n",
      "and provide your evaluation in parsable JSON without using code blocks:\n",
      "\n",
      "{\n",
      "  \"Relevance\": \"NON_RELEVANT\" | \"PARTLY_RELEVANT\" | \"RELEVANT\",\n",
      "  \"Explanation\": \"[Provide a brief explanation for your evaluation]\"\n",
      "}\n"
     ]
    }
   ],
   "source": [
    "prompt = prompt2_template.format(question=question, answer_llm=answer_llm)\n",
    "print(prompt)"
   ]
  },
  {
   "cell_type": "code",
   "execution_count": 43,
   "id": "1a2c2746-f2f2-44fa-86b8-f7e0356ba2c8",
   "metadata": {},
   "outputs": [],
   "source": [
    "df_sample = df_question.sample(n=200, random_state=1)"
   ]
  },
  {
   "cell_type": "code",
   "execution_count": 44,
   "id": "13c06cc6-155f-4ae3-8298-a0256a5fecd3",
   "metadata": {},
   "outputs": [],
   "source": [
    "sample = df_sample.to_dict(orient='records')"
   ]
  },
  {
   "cell_type": "code",
   "execution_count": 46,
   "id": "36c38588-a07e-4271-baeb-5cf32200852a",
   "metadata": {},
   "outputs": [
    {
     "data": {
      "application/vnd.jupyter.widget-view+json": {
       "model_id": "2e16531b00b046909157cccf555e5665",
       "version_major": 2,
       "version_minor": 0
      },
      "text/plain": [
       "  0%|          | 0/200 [00:00<?, ?it/s]"
      ]
     },
     "metadata": {},
     "output_type": "display_data"
    },
    {
     "name": "stdout",
     "output_type": "stream",
     "text": [
      "Error processing document : Expecting ',' delimiter: line 3 column 214 (char 242)\n",
      "Retrying in 10 seconds...\n",
      "Error processing document : Expecting ',' delimiter: line 3 column 227 (char 260)\n",
      "Retrying in 10 seconds...\n",
      "Error processing document : Expecting ',' delimiter: line 3 column 267 (char 302)\n",
      "Retrying in 10 seconds...\n",
      "Error processing document : Expecting ',' delimiter: line 3 column 430 (char 465)\n",
      "Retrying in 10 seconds...\n",
      "Error processing document : Expecting ',' delimiter: line 3 column 269 (char 297)\n",
      "Retrying in 10 seconds...\n",
      "Error processing document : Expecting ',' delimiter: line 3 column 387 (char 415)\n",
      "Retrying in 10 seconds...\n",
      "Error processing document : Expecting ',' delimiter: line 3 column 225 (char 251)\n",
      "Retrying in 10 seconds...\n",
      "Error processing document : Expecting ',' delimiter: line 3 column 293 (char 321)\n",
      "Retrying in 10 seconds...\n",
      "Error processing document : Expecting ',' delimiter: line 3 column 258 (char 286)\n",
      "Retrying in 10 seconds...\n",
      "Error processing document : Expecting ',' delimiter: line 3 column 214 (char 242)\n",
      "Retrying in 10 seconds...\n",
      "Error processing document : Expecting ',' delimiter: line 3 column 241 (char 269)\n",
      "Retrying in 10 seconds...\n",
      "Error processing document : Expecting value: line 1 column 1 (char 0)\n",
      "Retrying in 10 seconds...\n",
      "Error processing document : Expecting ',' delimiter: line 3 column 311 (char 339)\n",
      "Retrying in 10 seconds...\n",
      "Error processing document : Expecting ',' delimiter: line 3 column 326 (char 354)\n",
      "Retrying in 10 seconds...\n",
      "Error processing document : Expecting ',' delimiter: line 3 column 263 (char 289)\n",
      "Retrying in 10 seconds...\n",
      "Error processing document : Expecting ',' delimiter: line 3 column 358 (char 391)\n",
      "Retrying in 10 seconds...\n",
      "Error processing document : Expecting ',' delimiter: line 3 column 361 (char 391)\n",
      "Retrying in 10 seconds...\n",
      "Error processing document : Expecting ',' delimiter: line 3 column 210 (char 238)\n",
      "Retrying in 10 seconds...\n",
      "Error processing document : Expecting ',' delimiter: line 3 column 336 (char 369)\n",
      "Retrying in 10 seconds...\n",
      "Error processing document : Expecting ',' delimiter: line 3 column 314 (char 342)\n",
      "Retrying in 10 seconds...\n",
      "Error processing document : Expecting ',' delimiter: line 3 column 215 (char 243)\n",
      "Retrying in 10 seconds...\n",
      "Error processing document : Expecting ',' delimiter: line 3 column 199 (char 225)\n",
      "Retrying in 10 seconds...\n",
      "Error processing document : Expecting ',' delimiter: line 3 column 256 (char 284)\n",
      "Retrying in 10 seconds...\n",
      "Error processing document : Expecting ',' delimiter: line 3 column 276 (char 304)\n",
      "Retrying in 10 seconds...\n",
      "Error processing document : Expecting ',' delimiter: line 3 column 204 (char 230)\n",
      "Retrying in 10 seconds...\n",
      "Error processing document : Expecting ',' delimiter: line 3 column 310 (char 336)\n",
      "Retrying in 10 seconds...\n",
      "Error processing document : Expecting ',' delimiter: line 3 column 296 (char 324)\n",
      "Retrying in 10 seconds...\n",
      "Error processing document : Expecting ',' delimiter: line 3 column 228 (char 254)\n",
      "Retrying in 10 seconds...\n",
      "Error processing document : Expecting ',' delimiter: line 3 column 216 (char 242)\n",
      "Retrying in 10 seconds...\n",
      "Error processing document : Expecting ',' delimiter: line 3 column 278 (char 304)\n",
      "Retrying in 10 seconds...\n",
      "Error processing document : Expecting ',' delimiter: line 3 column 252 (char 280)\n",
      "Retrying in 10 seconds...\n",
      "Error processing document : Expecting ',' delimiter: line 3 column 291 (char 319)\n",
      "Retrying in 10 seconds...\n",
      "Error processing document : Expecting ',' delimiter: line 3 column 261 (char 289)\n",
      "Retrying in 10 seconds...\n",
      "Error processing document : Expecting ',' delimiter: line 3 column 241 (char 267)\n",
      "Retrying in 10 seconds...\n",
      "Error processing document : Expecting ',' delimiter: line 3 column 264 (char 290)\n",
      "Retrying in 10 seconds...\n",
      "Error processing document : Expecting value: line 1 column 1 (char 0)\n",
      "Retrying in 10 seconds...\n",
      "Error processing document : Expecting ',' delimiter: line 3 column 259 (char 287)\n",
      "Retrying in 10 seconds...\n",
      "Error processing document : Expecting ',' delimiter: line 3 column 217 (char 245)\n",
      "Retrying in 10 seconds...\n",
      "Error processing document : Expecting ',' delimiter: line 3 column 301 (char 329)\n",
      "Retrying in 10 seconds...\n",
      "Error processing document : Expecting ',' delimiter: line 3 column 172 (char 200)\n",
      "Retrying in 10 seconds...\n",
      "Error processing document : Expecting ',' delimiter: line 3 column 439 (char 472)\n",
      "Retrying in 10 seconds...\n",
      "Error processing document : Expecting value: line 1 column 1 (char 0)\n",
      "Retrying in 10 seconds...\n",
      "Error processing document : Expecting ',' delimiter: line 3 column 597 (char 632)\n",
      "Retrying in 10 seconds...\n",
      "Error processing document : Expecting ',' delimiter: line 3 column 222 (char 248)\n",
      "Retrying in 10 seconds...\n",
      "Error processing document : Expecting ',' delimiter: line 3 column 245 (char 273)\n",
      "Retrying in 10 seconds...\n",
      "Error processing document : Expecting ',' delimiter: line 3 column 251 (char 277)\n",
      "Retrying in 10 seconds...\n",
      "Error processing document : Expecting ',' delimiter: line 3 column 231 (char 259)\n",
      "Retrying in 10 seconds...\n",
      "Error processing document : Expecting ',' delimiter: line 3 column 225 (char 253)\n",
      "Retrying in 10 seconds...\n",
      "Error processing document : Expecting ',' delimiter: line 3 column 255 (char 283)\n",
      "Retrying in 10 seconds...\n",
      "Error processing document : Expecting ',' delimiter: line 3 column 294 (char 320)\n",
      "Retrying in 10 seconds...\n",
      "Error processing document : Expecting ',' delimiter: line 3 column 230 (char 258)\n",
      "Retrying in 10 seconds...\n",
      "Error processing document : Expecting ',' delimiter: line 3 column 264 (char 296)\n",
      "Retrying in 10 seconds...\n",
      "Error processing document : Expecting ',' delimiter: line 3 column 356 (char 384)\n",
      "Retrying in 10 seconds...\n",
      "Error processing document : Expecting ',' delimiter: line 3 column 409 (char 437)\n",
      "Retrying in 10 seconds...\n",
      "Error processing document : Expecting value: line 1 column 1 (char 0)\n",
      "Retrying in 10 seconds...\n",
      "Error processing document : Expecting ',' delimiter: line 3 column 162 (char 188)\n",
      "Retrying in 10 seconds...\n",
      "Error processing document : Expecting ',' delimiter: line 3 column 253 (char 279)\n",
      "Retrying in 10 seconds...\n",
      "Error processing document : Expecting ',' delimiter: line 3 column 242 (char 268)\n",
      "Retrying in 10 seconds...\n",
      "Error processing document : Expecting ',' delimiter: line 3 column 315 (char 341)\n",
      "Retrying in 10 seconds...\n",
      "Error processing document : Expecting ',' delimiter: line 3 column 247 (char 275)\n",
      "Retrying in 10 seconds...\n",
      "Error processing document : Expecting ',' delimiter: line 3 column 357 (char 385)\n",
      "Retrying in 10 seconds...\n",
      "Error processing document : Expecting ',' delimiter: line 3 column 274 (char 302)\n",
      "Retrying in 10 seconds...\n",
      "Error processing document : Expecting ',' delimiter: line 3 column 442 (char 474)\n",
      "Retrying in 10 seconds...\n",
      "Error processing document : Expecting ',' delimiter: line 3 column 264 (char 297)\n",
      "Retrying in 10 seconds...\n",
      "Error processing document : Expecting value: line 1 column 1 (char 0)\n",
      "Retrying in 10 seconds...\n",
      "Error processing document : Expecting ',' delimiter: line 3 column 460 (char 495)\n",
      "Retrying in 10 seconds...\n",
      "Error processing document : Expecting ',' delimiter: line 3 column 359 (char 392)\n",
      "Retrying in 10 seconds...\n",
      "Error processing document : Expecting ',' delimiter: line 3 column 600 (char 635)\n",
      "Retrying in 10 seconds...\n",
      "Error processing document : Expecting ',' delimiter: line 3 column 465 (char 500)\n",
      "Retrying in 10 seconds...\n",
      "Error processing document : Expecting value: line 1 column 1 (char 0)\n",
      "Retrying in 10 seconds...\n",
      "Error processing document : Expecting ',' delimiter: line 3 column 229 (char 257)\n",
      "Retrying in 10 seconds...\n",
      "Error processing document : Expecting ',' delimiter: line 3 column 247 (char 279)\n",
      "Retrying in 10 seconds...\n",
      "Error processing document : Expecting ',' delimiter: line 3 column 369 (char 397)\n",
      "Retrying in 10 seconds...\n",
      "Error processing document : Expecting ',' delimiter: line 3 column 272 (char 300)\n",
      "Retrying in 10 seconds...\n",
      "Error processing document : Expecting ',' delimiter: line 3 column 287 (char 315)\n",
      "Retrying in 10 seconds...\n",
      "Error processing document : Expecting ',' delimiter: line 3 column 274 (char 302)\n",
      "Retrying in 10 seconds...\n",
      "Error processing document : Expecting ',' delimiter: line 3 column 245 (char 273)\n",
      "Retrying in 10 seconds...\n",
      "Error processing document : Expecting ',' delimiter: line 3 column 235 (char 263)\n",
      "Retrying in 10 seconds...\n",
      "Error processing document : Expecting ',' delimiter: line 3 column 459 (char 494)\n",
      "Retrying in 10 seconds...\n",
      "Error processing document : Expecting ',' delimiter: line 3 column 182 (char 210)\n",
      "Retrying in 10 seconds...\n",
      "Error processing document : Expecting ',' delimiter: line 3 column 245 (char 277)\n",
      "Retrying in 10 seconds...\n",
      "Error processing document : Expecting ',' delimiter: line 3 column 383 (char 415)\n",
      "Retrying in 10 seconds...\n",
      "Error processing document : Expecting ',' delimiter: line 3 column 298 (char 331)\n",
      "Retrying in 10 seconds...\n",
      "Error processing document : Expecting ',' delimiter: line 3 column 317 (char 349)\n",
      "Retrying in 10 seconds...\n",
      "Error processing document : Expecting ',' delimiter: line 3 column 254 (char 286)\n",
      "Retrying in 10 seconds...\n",
      "Error processing document : Expecting ',' delimiter: line 3 column 319 (char 351)\n",
      "Retrying in 10 seconds...\n",
      "Error processing document : Expecting ',' delimiter: line 3 column 356 (char 391)\n",
      "Retrying in 10 seconds...\n",
      "Error processing document : Expecting ',' delimiter: line 3 column 314 (char 349)\n",
      "Retrying in 10 seconds...\n",
      "Error processing document : Expecting value: line 1 column 1 (char 0)\n",
      "Retrying in 10 seconds...\n",
      "Error processing document : Expecting ',' delimiter: line 3 column 205 (char 231)\n",
      "Retrying in 10 seconds...\n",
      "Error processing document : Expecting ',' delimiter: line 3 column 265 (char 291)\n",
      "Retrying in 10 seconds...\n",
      "Error processing document : Expecting ',' delimiter: line 3 column 218 (char 244)\n",
      "Retrying in 10 seconds...\n",
      "Error processing document : Expecting ',' delimiter: line 3 column 252 (char 278)\n",
      "Retrying in 10 seconds...\n",
      "Error processing document : Expecting ',' delimiter: line 3 column 282 (char 310)\n",
      "Retrying in 10 seconds...\n",
      "Error processing document : Expecting ',' delimiter: line 3 column 357 (char 392)\n",
      "Retrying in 10 seconds...\n",
      "Error processing document : Expecting ',' delimiter: line 3 column 357 (char 390)\n",
      "Retrying in 10 seconds...\n",
      "Error processing document : Expecting ',' delimiter: line 3 column 320 (char 346)\n",
      "Retrying in 10 seconds...\n",
      "Error processing document : Expecting ',' delimiter: line 3 column 271 (char 297)\n",
      "Retrying in 10 seconds...\n",
      "Error processing document : Expecting ',' delimiter: line 3 column 237 (char 265)\n",
      "Retrying in 10 seconds...\n",
      "Error processing document : Expecting ',' delimiter: line 3 column 210 (char 238)\n",
      "Retrying in 10 seconds...\n",
      "Error processing document : Expecting ',' delimiter: line 3 column 272 (char 298)\n",
      "Retrying in 10 seconds...\n",
      "Error processing document : Expecting ',' delimiter: line 3 column 305 (char 331)\n",
      "Retrying in 10 seconds...\n",
      "Error processing document : Expecting ',' delimiter: line 3 column 265 (char 293)\n",
      "Retrying in 10 seconds...\n",
      "Error processing document : Expecting ',' delimiter: line 3 column 303 (char 336)\n",
      "Retrying in 10 seconds...\n",
      "Error processing document : Expecting ',' delimiter: line 3 column 257 (char 292)\n",
      "Retrying in 10 seconds...\n",
      "Error processing document : Expecting ',' delimiter: line 3 column 263 (char 291)\n",
      "Retrying in 10 seconds...\n",
      "Error processing document : Expecting ',' delimiter: line 3 column 293 (char 319)\n",
      "Retrying in 10 seconds...\n",
      "Error processing document : Expecting ',' delimiter: line 3 column 280 (char 308)\n",
      "Retrying in 10 seconds...\n",
      "Error processing document : Expecting ',' delimiter: line 3 column 308 (char 336)\n",
      "Retrying in 10 seconds...\n",
      "Error processing document : Expecting ',' delimiter: line 3 column 301 (char 329)\n",
      "Retrying in 10 seconds...\n",
      "Error processing document : Expecting ',' delimiter: line 3 column 229 (char 257)\n",
      "Retrying in 10 seconds...\n",
      "Error processing document : Expecting ',' delimiter: line 3 column 272 (char 300)\n",
      "Retrying in 10 seconds...\n",
      "Error processing document : Expecting ',' delimiter: line 3 column 333 (char 361)\n",
      "Retrying in 10 seconds...\n",
      "Error processing document : Expecting ',' delimiter: line 3 column 278 (char 313)\n",
      "Retrying in 10 seconds...\n",
      "Error processing document : Expecting ',' delimiter: line 3 column 270 (char 303)\n",
      "Retrying in 10 seconds...\n",
      "Error processing document : Expecting ',' delimiter: line 3 column 271 (char 299)\n",
      "Retrying in 10 seconds...\n",
      "Error processing document : Expecting ',' delimiter: line 3 column 250 (char 278)\n",
      "Retrying in 10 seconds...\n",
      "Error processing document : Expecting ',' delimiter: line 4 column 1 (char 327)\n",
      "Retrying in 10 seconds...\n",
      "Error processing document : Expecting ',' delimiter: line 3 column 178 (char 206)\n",
      "Retrying in 10 seconds...\n",
      "Error processing document : Expecting ',' delimiter: line 3 column 261 (char 287)\n",
      "Retrying in 10 seconds...\n",
      "Error processing document : Expecting ',' delimiter: line 3 column 355 (char 381)\n",
      "Retrying in 10 seconds...\n",
      "Error processing document : Expecting ',' delimiter: line 3 column 199 (char 225)\n",
      "Retrying in 10 seconds...\n",
      "Error processing document : Expecting ',' delimiter: line 3 column 293 (char 321)\n",
      "Retrying in 10 seconds...\n",
      "Error processing document : Expecting ',' delimiter: line 3 column 266 (char 292)\n",
      "Retrying in 10 seconds...\n",
      "Error processing document : Expecting value: line 1 column 1 (char 0)\n",
      "Retrying in 10 seconds...\n",
      "Error processing document : Expecting value: line 1 column 1 (char 0)\n",
      "Retrying in 10 seconds...\n",
      "Error processing document : Expecting value: line 1 column 1 (char 0)\n",
      "Retrying in 10 seconds...\n",
      "Error processing document : Expecting value: line 1 column 1 (char 0)\n",
      "Retrying in 10 seconds...\n",
      "Error processing document : Expecting value: line 1 column 1 (char 0)\n",
      "Retrying in 10 seconds...\n",
      "Error processing document : Expecting value: line 1 column 1 (char 0)\n",
      "Retrying in 10 seconds...\n",
      "Error processing document : Expecting value: line 1 column 1 (char 0)\n",
      "Retrying in 10 seconds...\n",
      "Error processing document : Expecting value: line 1 column 1 (char 0)\n",
      "Retrying in 10 seconds...\n",
      "Error processing document : Expecting value: line 1 column 1 (char 0)\n",
      "Retrying in 10 seconds...\n",
      "Error processing document : Expecting value: line 1 column 1 (char 0)\n",
      "Retrying in 10 seconds...\n",
      "Error processing document : Expecting value: line 1 column 1 (char 0)\n",
      "Retrying in 10 seconds...\n",
      "Error processing document : Expecting value: line 1 column 1 (char 0)\n",
      "Retrying in 10 seconds...\n",
      "Error processing document : Expecting value: line 1 column 1 (char 0)\n",
      "Retrying in 10 seconds...\n",
      "Error processing document : Expecting ',' delimiter: line 3 column 203 (char 231)\n",
      "Retrying in 10 seconds...\n",
      "Error processing document : Expecting ',' delimiter: line 3 column 302 (char 330)\n",
      "Retrying in 10 seconds...\n",
      "Error processing document : Expecting ',' delimiter: line 3 column 240 (char 268)\n",
      "Retrying in 10 seconds...\n",
      "Error processing document : Expecting ',' delimiter: line 3 column 219 (char 247)\n",
      "Retrying in 10 seconds...\n",
      "Error processing document : Expecting ',' delimiter: line 3 column 316 (char 349)\n",
      "Retrying in 10 seconds...\n",
      "Error processing document : Expecting ',' delimiter: line 3 column 207 (char 235)\n",
      "Retrying in 10 seconds...\n",
      "Error processing document : Expecting ',' delimiter: line 3 column 226 (char 254)\n",
      "Retrying in 10 seconds...\n",
      "Error processing document : Expecting ',' delimiter: line 3 column 293 (char 321)\n",
      "Retrying in 10 seconds...\n",
      "Error processing document : Expecting ',' delimiter: line 3 column 253 (char 281)\n",
      "Retrying in 10 seconds...\n",
      "Error processing document : Expecting ',' delimiter: line 3 column 305 (char 338)\n",
      "Retrying in 10 seconds...\n",
      "Error processing document : Expecting ',' delimiter: line 3 column 278 (char 313)\n",
      "Retrying in 10 seconds...\n",
      "Error processing document : Expecting value: line 1 column 1 (char 0)\n",
      "Retrying in 10 seconds...\n",
      "Error processing document : Expecting ',' delimiter: line 3 column 218 (char 244)\n",
      "Retrying in 10 seconds...\n",
      "Error processing document : Expecting ',' delimiter: line 3 column 177 (char 205)\n",
      "Retrying in 10 seconds...\n",
      "Error processing document : Expecting ',' delimiter: line 3 column 267 (char 295)\n",
      "Retrying in 10 seconds...\n",
      "Error processing document : Expecting ',' delimiter: line 3 column 214 (char 240)\n",
      "Retrying in 10 seconds...\n",
      "Error processing document : Expecting ',' delimiter: line 3 column 199 (char 225)\n",
      "Retrying in 10 seconds...\n",
      "Error processing document : Expecting ',' delimiter: line 3 column 173 (char 201)\n",
      "Retrying in 10 seconds...\n",
      "Error processing document : Expecting ',' delimiter: line 3 column 320 (char 355)\n",
      "Retrying in 10 seconds...\n",
      "Error processing document : Expecting ',' delimiter: line 3 column 270 (char 298)\n",
      "Retrying in 10 seconds...\n",
      "Error processing document : Expecting ',' delimiter: line 3 column 415 (char 450)\n",
      "Retrying in 10 seconds...\n",
      "Error processing document : Expecting ',' delimiter: line 3 column 428 (char 463)\n",
      "Retrying in 10 seconds...\n",
      "Error processing document : Expecting value: line 1 column 1 (char 0)\n",
      "Retrying in 10 seconds...\n",
      "Error processing document : Expecting ',' delimiter: line 3 column 493 (char 521)\n",
      "Retrying in 10 seconds...\n",
      "Error processing document : Expecting value: line 1 column 1 (char 0)\n",
      "Retrying in 10 seconds...\n",
      "Error processing document : Expecting ',' delimiter: line 3 column 197 (char 225)\n",
      "Retrying in 10 seconds...\n",
      "Error processing document : Expecting ',' delimiter: line 3 column 361 (char 389)\n",
      "Retrying in 10 seconds...\n",
      "Error processing document : Expecting ',' delimiter: line 3 column 383 (char 411)\n",
      "Retrying in 10 seconds...\n",
      "Error processing document : Expecting ',' delimiter: line 3 column 307 (char 333)\n",
      "Retrying in 10 seconds...\n",
      "Error processing document : Expecting value: line 1 column 1 (char 0)\n",
      "Retrying in 10 seconds...\n",
      "Error processing document : Expecting ',' delimiter: line 3 column 370 (char 398)\n",
      "Retrying in 10 seconds...\n",
      "Error processing document : Expecting ',' delimiter: line 3 column 307 (char 335)\n",
      "Retrying in 10 seconds...\n",
      "Error processing document : Expecting ',' delimiter: line 3 column 326 (char 352)\n",
      "Retrying in 10 seconds...\n",
      "Error processing document : Expecting ',' delimiter: line 3 column 249 (char 275)\n",
      "Retrying in 10 seconds...\n",
      "Error processing document : Expecting ',' delimiter: line 3 column 201 (char 229)\n",
      "Retrying in 10 seconds...\n",
      "Error processing document : Expecting ',' delimiter: line 3 column 205 (char 233)\n",
      "Retrying in 10 seconds...\n",
      "Error processing document : Expecting ',' delimiter: line 3 column 514 (char 549)\n",
      "Retrying in 10 seconds...\n",
      "Error processing document : Expecting ',' delimiter: line 3 column 460 (char 493)\n",
      "Retrying in 10 seconds...\n",
      "Error processing document : Expecting ',' delimiter: line 3 column 266 (char 299)\n",
      "Retrying in 10 seconds...\n",
      "Error processing document : Expecting ',' delimiter: line 3 column 293 (char 319)\n",
      "Retrying in 10 seconds...\n",
      "Error processing document : Expecting ',' delimiter: line 3 column 372 (char 405)\n",
      "Retrying in 10 seconds...\n",
      "Error processing document : Expecting ',' delimiter: line 3 column 284 (char 310)\n",
      "Retrying in 10 seconds...\n",
      "Error processing document : Expecting ',' delimiter: line 3 column 269 (char 295)\n",
      "Retrying in 10 seconds...\n",
      "Error processing document : Expecting ',' delimiter: line 3 column 271 (char 299)\n",
      "Retrying in 10 seconds...\n",
      "Error processing document : Expecting ',' delimiter: line 3 column 302 (char 330)\n",
      "Retrying in 10 seconds...\n",
      "Error processing document : Expecting value: line 1 column 1 (char 0)\n",
      "Retrying in 10 seconds...\n",
      "Error processing document : Expecting ',' delimiter: line 3 column 202 (char 230)\n",
      "Retrying in 10 seconds...\n",
      "Error processing document : Expecting ',' delimiter: line 3 column 275 (char 303)\n",
      "Retrying in 10 seconds...\n",
      "Error processing document : Expecting value: line 1 column 1 (char 0)\n",
      "Retrying in 10 seconds...\n",
      "Error processing document : Expecting ',' delimiter: line 3 column 386 (char 412)\n",
      "Retrying in 10 seconds...\n",
      "Error processing document : Expecting value: line 1 column 1 (char 0)\n",
      "Retrying in 10 seconds...\n",
      "Error processing document : Expecting value: line 1 column 1 (char 0)\n",
      "Retrying in 10 seconds...\n",
      "Error processing document : Expecting value: line 1 column 1 (char 0)\n",
      "Retrying in 10 seconds...\n",
      "Error processing document : Expecting value: line 1 column 1 (char 0)\n",
      "Retrying in 10 seconds...\n",
      "Error processing document : Expecting value: line 1 column 1 (char 0)\n",
      "Retrying in 10 seconds...\n",
      "Error processing document : Expecting value: line 1 column 1 (char 0)\n",
      "Retrying in 10 seconds...\n",
      "Error processing document : Expecting value: line 1 column 1 (char 0)\n",
      "Retrying in 10 seconds...\n",
      "Error processing document : Expecting value: line 1 column 1 (char 0)\n",
      "Retrying in 10 seconds...\n",
      "Error processing document : Expecting value: line 1 column 1 (char 0)\n",
      "Retrying in 10 seconds...\n",
      "Error processing document : Expecting value: line 1 column 1 (char 0)\n",
      "Retrying in 10 seconds...\n",
      "Error processing document : Expecting value: line 1 column 1 (char 0)\n",
      "Retrying in 10 seconds...\n",
      "Error processing document : Expecting value: line 1 column 1 (char 0)\n",
      "Retrying in 10 seconds...\n",
      "Error processing document : Expecting value: line 1 column 1 (char 0)\n",
      "Retrying in 10 seconds...\n",
      "Error processing document : Expecting value: line 1 column 1 (char 0)\n",
      "Retrying in 10 seconds...\n",
      "Error processing document : Expecting value: line 1 column 1 (char 0)\n",
      "Retrying in 10 seconds...\n",
      "Error processing document : Expecting value: line 1 column 1 (char 0)\n",
      "Retrying in 10 seconds...\n",
      "Error processing document : Expecting value: line 1 column 1 (char 0)\n",
      "Retrying in 10 seconds...\n",
      "Error processing document : Expecting value: line 1 column 1 (char 0)\n",
      "Retrying in 10 seconds...\n",
      "Error processing document : Expecting ',' delimiter: line 3 column 221 (char 247)\n",
      "Retrying in 10 seconds...\n",
      "Error processing document : Expecting ',' delimiter: line 3 column 340 (char 366)\n",
      "Retrying in 10 seconds...\n",
      "Error processing document : Expecting ',' delimiter: line 3 column 465 (char 498)\n",
      "Retrying in 10 seconds...\n",
      "Error processing document : Expecting ',' delimiter: line 3 column 166 (char 194)\n",
      "Retrying in 10 seconds...\n",
      "Error processing document : Expecting ',' delimiter: line 3 column 335 (char 367)\n",
      "Retrying in 10 seconds...\n",
      "Error processing document : Expecting ',' delimiter: line 3 column 409 (char 442)\n",
      "Retrying in 10 seconds...\n",
      "Error processing document : Expecting ',' delimiter: line 3 column 432 (char 467)\n",
      "Retrying in 10 seconds...\n",
      "Error processing document : Expecting ',' delimiter: line 3 column 363 (char 398)\n",
      "Retrying in 10 seconds...\n",
      "Error processing document : Expecting value: line 1 column 1 (char 0)\n",
      "Retrying in 10 seconds...\n",
      "Error processing document : Expecting ',' delimiter: line 3 column 281 (char 309)\n",
      "Retrying in 10 seconds...\n",
      "Error processing document : Expecting ',' delimiter: line 3 column 197 (char 223)\n",
      "Retrying in 10 seconds...\n",
      "Error processing document : Expecting ',' delimiter: line 3 column 170 (char 198)\n",
      "Retrying in 10 seconds...\n",
      "Error processing document : Expecting ',' delimiter: line 3 column 244 (char 272)\n",
      "Retrying in 10 seconds...\n",
      "Error processing document : Expecting ',' delimiter: line 3 column 212 (char 240)\n",
      "Retrying in 10 seconds...\n",
      "Error processing document : Expecting ',' delimiter: line 3 column 343 (char 369)\n",
      "Retrying in 10 seconds...\n",
      "Error processing document : Expecting ',' delimiter: line 3 column 304 (char 332)\n",
      "Retrying in 10 seconds...\n",
      "Error processing document : Expecting ',' delimiter: line 3 column 265 (char 300)\n",
      "Retrying in 10 seconds...\n",
      "Error processing document : Expecting ',' delimiter: line 3 column 249 (char 277)\n",
      "Retrying in 10 seconds...\n",
      "Error processing document : Expecting ',' delimiter: line 3 column 319 (char 347)\n",
      "Retrying in 10 seconds...\n",
      "Error processing document : Expecting ',' delimiter: line 3 column 219 (char 245)\n",
      "Retrying in 10 seconds...\n",
      "Error processing document : Expecting value: line 1 column 1 (char 0)\n",
      "Retrying in 10 seconds...\n",
      "Error processing document : Expecting ',' delimiter: line 3 column 386 (char 414)\n",
      "Retrying in 10 seconds...\n",
      "Error processing document : Expecting ',' delimiter: line 3 column 198 (char 224)\n",
      "Retrying in 10 seconds...\n",
      "Error processing document : Expecting ',' delimiter: line 3 column 255 (char 283)\n",
      "Retrying in 10 seconds...\n",
      "Error processing document : Expecting ',' delimiter: line 3 column 287 (char 313)\n",
      "Retrying in 10 seconds...\n",
      "Error processing document : Expecting ',' delimiter: line 3 column 247 (char 275)\n",
      "Retrying in 10 seconds...\n",
      "Error processing document : Expecting ',' delimiter: line 3 column 482 (char 517)\n",
      "Retrying in 10 seconds...\n",
      "Error processing document : Expecting ',' delimiter: line 3 column 426 (char 461)\n",
      "Retrying in 10 seconds...\n"
     ]
    }
   ],
   "source": [
    "evaluations = []\n",
    "\n",
    "for record in tqdm(sample):\n",
    "    question = record['question']\n",
    "    answer_llm = rag(question) \n",
    "\n",
    "    prompt = prompt2_template.format(\n",
    "        question=question,\n",
    "        answer_llm=answer_llm\n",
    "    )\n",
    "    while True:\n",
    "        try:\n",
    "            evaluation = llm(prompt)\n",
    "            evaluation = json.loads(evaluation)\n",
    "            evaluations.append((record, answer_llm, evaluation))\n",
    "            break\n",
    "        except Exception as e:\n",
    "            print(f\"Error processing document : {e}\")\n",
    "            print(\"Retrying in 10 seconds...\")\n",
    "            time.sleep(10)"
   ]
  },
  {
   "cell_type": "code",
   "execution_count": 48,
   "id": "469650d9-af92-47f2-aae8-4269eee9eae1",
   "metadata": {},
   "outputs": [
    {
     "data": {
      "text/plain": [
       "({'id': 171,\n",
       "  'question': 'What is the primary muscle group activated during the Banded Pull-Up?'},\n",
       " 'Based on the provided context, the primary muscle group activated during the Banded Pull-Up is the Latissimus Dorsi, along with the Biceps.',\n",
       " {'Relevance': 'RELEVANT',\n",
       "  'Explanation': 'The generated answer directly addresses the question, providing the primary muscle group(s) activated during the Banded Pull-Up, which is the main focus of the inquiry.'})"
      ]
     },
     "execution_count": 48,
     "metadata": {},
     "output_type": "execute_result"
    }
   ],
   "source": [
    "evaluations[0]"
   ]
  },
  {
   "cell_type": "code",
   "execution_count": 49,
   "id": "90ce9118-b4ea-429e-99fe-24e107114be8",
   "metadata": {},
   "outputs": [],
   "source": [
    "df_eval = pd.DataFrame(evaluations, columns=['record', 'answer', 'evaluation'])\n",
    "\n",
    "df_eval['id'] = df_eval.record.apply(lambda d: d['id'])\n",
    "df_eval['question'] = df_eval.record.apply(lambda d: d['question'])\n",
    "\n",
    "df_eval['relevance'] = df_eval.evaluation.apply(lambda d: d['Relevance'])\n",
    "df_eval['explanation'] = df_eval.evaluation.apply(lambda d: d['Explanation'])\n",
    "\n",
    "del df_eval['record']\n",
    "del df_eval['evaluation']"
   ]
  },
  {
   "cell_type": "code",
   "execution_count": 50,
   "id": "c8822c38-f858-4ead-b47d-3285d7641422",
   "metadata": {},
   "outputs": [
    {
     "data": {
      "text/plain": [
       "relevance\n",
       "RELEVANT           0.765\n",
       "PARTLY_RELEVANT    0.200\n",
       "NON_RELEVANT       0.035\n",
       "Name: proportion, dtype: float64"
      ]
     },
     "execution_count": 50,
     "metadata": {},
     "output_type": "execute_result"
    }
   ],
   "source": [
    "df_eval.relevance.value_counts(normalize=True)"
   ]
  },
  {
   "cell_type": "code",
   "execution_count": 51,
   "id": "7a197e05-8298-42c1-b86d-a4b629512dc8",
   "metadata": {},
   "outputs": [],
   "source": [
    "df_eval.to_csv('../data/rag-eval-groq.csv', index=False)"
   ]
  }
 ],
 "metadata": {
  "kernelspec": {
   "display_name": "Python 3 (ipykernel)",
   "language": "python",
   "name": "python3"
  },
  "language_info": {
   "codemirror_mode": {
    "name": "ipython",
    "version": 3
   },
   "file_extension": ".py",
   "mimetype": "text/x-python",
   "name": "python",
   "nbconvert_exporter": "python",
   "pygments_lexer": "ipython3",
   "version": "3.12.3"
  }
 },
 "nbformat": 4,
 "nbformat_minor": 5
}
