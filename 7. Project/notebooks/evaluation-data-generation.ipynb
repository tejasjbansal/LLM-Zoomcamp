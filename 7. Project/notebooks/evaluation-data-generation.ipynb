{
 "cells": [
  {
   "cell_type": "code",
   "execution_count": 1,
   "id": "53058f6a-d096-4ac5-9298-d41f1dac6961",
   "metadata": {},
   "outputs": [],
   "source": [
    "import json\n",
    "import time\n",
    "import pandas as pd"
   ]
  },
  {
   "cell_type": "code",
   "execution_count": 77,
   "id": "b3162962-8137-49de-aebf-a86445a03287",
   "metadata": {},
   "outputs": [],
   "source": [
    "import os\n",
    "from groq import Groq"
   ]
  },
  {
   "cell_type": "code",
   "execution_count": 78,
   "id": "7ab59aa3-0993-41f5-980c-8593ca328696",
   "metadata": {},
   "outputs": [],
   "source": [
    "client = Groq(api_key=os.environ.get(\"GROQ_API_KEY\"))"
   ]
  },
  {
   "cell_type": "code",
   "execution_count": 79,
   "id": "623d0dd5-27f2-421b-ba47-1fb9b35f8ed1",
   "metadata": {},
   "outputs": [],
   "source": [
    "df = pd.read_csv('../data/data.csv')\n",
    "documents = df.to_dict(orient='records')"
   ]
  },
  {
   "cell_type": "code",
   "execution_count": 80,
   "id": "2cc6df08-71f0-45db-ae00-4fd32cd68c54",
   "metadata": {},
   "outputs": [
    {
     "data": {
      "text/plain": [
       "{'id': 0,\n",
       " 'exercise_name': 'Push-Ups',\n",
       " 'type_of_activity': 'Strength',\n",
       " 'type_of_equipment': 'Bodyweight',\n",
       " 'body_part': 'Upper Body',\n",
       " 'type': 'Push',\n",
       " 'muscle_groups_activated': 'Pectorals, Triceps, Deltoids',\n",
       " 'instructions': 'Start in a high plank position with your hands under your shoulders. Lower your body until your chest nearly touches the floor. Push back up to the starting position.'}"
      ]
     },
     "execution_count": 80,
     "metadata": {},
     "output_type": "execute_result"
    }
   ],
   "source": [
    "documents[0]"
   ]
  },
  {
   "cell_type": "code",
   "execution_count": 81,
   "id": "9cd4494a-32b6-4527-b06e-858d95068824",
   "metadata": {},
   "outputs": [],
   "source": [
    "prompt_template = \"\"\"\n",
    "You emulate a user of our fitness assistant application.\n",
    "Formulate 5 questions this user might ask based on a provided exercise.\n",
    "Make the questions specific to this exercise.\n",
    "The record should contain the answer to the questions, and the questions should\n",
    "be complete and not too short. Use as fewer words as possible from the record. \n",
    "\n",
    "The record:\n",
    "\n",
    "exercise_name: {exercise_name}\n",
    "type_of_activity: {type_of_activity}\n",
    "type_of_equipment: {type_of_equipment}\n",
    "body_part: {body_part}\n",
    "type: {type}\n",
    "muscle_groups_activated: {muscle_groups_activated}\n",
    "instructions: {instructions}\n",
    "\n",
    "Provide the output in parsable JSON without using code blocks and any other texts like Here are 5 questions a user of our fitness assistant application might ask based on the provided exercise:\n",
    "\n",
    "{{\"questions\": [\"question1\", \"question2\", ..., \"question5\"]}}\n",
    "\"\"\".strip()"
   ]
  },
  {
   "cell_type": "code",
   "execution_count": 82,
   "id": "c5691bfe-1ef3-48c1-9868-ea9f9b257fba",
   "metadata": {},
   "outputs": [],
   "source": [
    "prompt = prompt_template.format(**documents[0])"
   ]
  },
  {
   "cell_type": "code",
   "execution_count": 83,
   "id": "012da976-bca8-496d-b62b-f31e2c79b888",
   "metadata": {},
   "outputs": [
    {
     "data": {
      "text/plain": [
       "'You emulate a user of our fitness assistant application.\\nFormulate 5 questions this user might ask based on a provided exercise.\\nMake the questions specific to this exercise.\\nThe record should contain the answer to the questions, and the questions should\\nbe complete and not too short. Use as fewer words as possible from the record. \\n\\nThe record:\\n\\nexercise_name: Push-Ups\\ntype_of_activity: Strength\\ntype_of_equipment: Bodyweight\\nbody_part: Upper Body\\ntype: Push\\nmuscle_groups_activated: Pectorals, Triceps, Deltoids\\ninstructions: Start in a high plank position with your hands under your shoulders. Lower your body until your chest nearly touches the floor. Push back up to the starting position.\\n\\nProvide the output in parsable JSON without using code blocks and any other texts like Here are 5 questions a user of our fitness assistant application might ask based on the provided exercise:\\n\\n{\"questions\": [\"question1\", \"question2\", ..., \"question5\"]}'"
      ]
     },
     "execution_count": 83,
     "metadata": {},
     "output_type": "execute_result"
    }
   ],
   "source": [
    "prompt"
   ]
  },
  {
   "cell_type": "code",
   "execution_count": 84,
   "id": "678ba391-39bf-4b0f-8700-ee2f58b87f25",
   "metadata": {},
   "outputs": [],
   "source": [
    "def llm(prompt):\n",
    "    response = client.chat.completions.create(\n",
    "        model='llama3-8b-8192',\n",
    "        messages=[{\"role\": \"user\", \"content\": prompt}]\n",
    "    )\n",
    "    \n",
    "    return response.choices[0].message.content"
   ]
  },
  {
   "cell_type": "code",
   "execution_count": 85,
   "id": "65a480a9-139e-47f7-8657-62f2871a2b30",
   "metadata": {},
   "outputs": [],
   "source": [
    "questions = llm(prompt)"
   ]
  },
  {
   "cell_type": "code",
   "execution_count": 86,
   "id": "b862013d-07d8-447f-8fb1-46e36963349b",
   "metadata": {},
   "outputs": [
    {
     "data": {
      "text/plain": [
       "'{\"questions\": [\\n\"How do I adjust my plank position to engage my core and avoid straining my back during push-ups?\",\\n\"What are the common mistakes I should watch out for while performing push-ups, especially when it comes to lowering my body to the floor?\",\\n\"Can I modify push-ups to make them easier to do, and if so, how do I do it?\",\\n\"Are there any additional exercises I can do after completing a set of push-ups to target other muscle groups in my upper body?\",\\n\"How long should I hold the starting position of the push-up to get the most effective workout for my pectorals and triceps?\"]}'"
      ]
     },
     "execution_count": 86,
     "metadata": {},
     "output_type": "execute_result"
    }
   ],
   "source": [
    "questions"
   ]
  },
  {
   "cell_type": "code",
   "execution_count": 87,
   "id": "ac32026c-3191-4eaf-8997-ea4c4c3fcdd6",
   "metadata": {},
   "outputs": [],
   "source": [
    "def generate_questions(doc):\n",
    "    prompt = prompt_template.format(**doc)\n",
    "\n",
    "    response = client.chat.completions.create(\n",
    "        model='llama3-8b-8192',\n",
    "        messages=[{\"role\": \"user\", \"content\": prompt}]\n",
    "    )\n",
    "\n",
    "    json_response = response.choices[0].message.content\n",
    "    return json_response"
   ]
  },
  {
   "cell_type": "code",
   "execution_count": 88,
   "id": "5ee99365-bd7f-40de-bae8-3d996e90076d",
   "metadata": {},
   "outputs": [],
   "source": [
    "from tqdm.auto import tqdm "
   ]
  },
  {
   "cell_type": "code",
   "execution_count": 89,
   "id": "2375a8b8-3c71-468e-b61f-ab5fb35670f3",
   "metadata": {},
   "outputs": [],
   "source": [
    "results = {}"
   ]
  },
  {
   "cell_type": "code",
   "execution_count": 90,
   "id": "736d1feb-8bce-4d43-a292-dcc3953a9d8b",
   "metadata": {},
   "outputs": [
    {
     "data": {
      "application/vnd.jupyter.widget-view+json": {
       "model_id": "54e22441d7c849c089b9207baa7e9c87",
       "version_major": 2,
       "version_minor": 0
      },
      "text/plain": [
       "  0%|          | 0/207 [00:00<?, ?it/s]"
      ]
     },
     "metadata": {},
     "output_type": "display_data"
    },
    {
     "name": "stdout",
     "output_type": "stream",
     "text": [
      "Error processing document 4: Expecting ',' delimiter: line 6 column 110 (char 510)\n",
      "Retrying in 10 seconds...\n",
      "Error processing document 5: Expecting ',' delimiter: line 5 column 130 (char 596)\n",
      "Retrying in 10 seconds...\n",
      "Error processing document 23: Extra data: line 3 column 1 (char 362)\n",
      "Retrying in 10 seconds...\n",
      "Error processing document 24: Expecting ',' delimiter: line 6 column 93 (char 480)\n",
      "Retrying in 10 seconds...\n",
      "Error processing document 37: Extra data: line 8 column 1 (char 564)\n",
      "Retrying in 10 seconds...\n",
      "Error processing document 45: Expecting ',' delimiter: line 6 column 157 (char 695)\n",
      "Retrying in 10 seconds...\n",
      "Error processing document 54: Expecting ',' delimiter: line 1 column 601 (char 600)\n",
      "Retrying in 10 seconds...\n",
      "Error processing document 57: Expecting ',' delimiter: line 6 column 141 (char 694)\n",
      "Retrying in 10 seconds...\n",
      "Error processing document 57: Expecting ',' delimiter: line 6 column 133 (char 672)\n",
      "Retrying in 10 seconds...\n",
      "Error processing document 64: Extra data: line 3 column 1 (char 413)\n",
      "Retrying in 10 seconds...\n",
      "Error processing document 64: Expecting ',' delimiter: line 1 column 464 (char 463)\n",
      "Retrying in 10 seconds...\n",
      "Error processing document 65: Expecting value: line 1 column 1 (char 0)\n",
      "Retrying in 10 seconds...\n",
      "Error processing document 68: Unterminated string starting at: line 3 column 1 (char 171)\n",
      "Retrying in 10 seconds...\n",
      "Error processing document 69: Expecting ',' delimiter: line 1 column 509 (char 508)\n",
      "Retrying in 10 seconds...\n",
      "Error processing document 74: Expecting value: line 1 column 1 (char 0)\n",
      "Retrying in 10 seconds...\n",
      "Error processing document 78: Expecting ',' delimiter: line 6 column 166 (char 705)\n",
      "Retrying in 10 seconds...\n",
      "Error processing document 81: Expecting value: line 1 column 1 (char 0)\n",
      "Retrying in 10 seconds...\n",
      "Error processing document 91: Error code: 503 - {'error': {'message': 'Service Unavailable', 'type': 'internal_server_error'}}\n",
      "Retrying in 10 seconds...\n",
      "Error processing document 99: Extra data: line 1 column 358 (char 357)\n",
      "Retrying in 10 seconds...\n",
      "Error processing document 100: Expecting value: line 1 column 1 (char 0)\n",
      "Retrying in 10 seconds...\n",
      "Error processing document 106: Expecting ',' delimiter: line 1 column 546 (char 545)\n",
      "Retrying in 10 seconds...\n",
      "Error processing document 110: Expecting ',' delimiter: line 6 column 154 (char 718)\n",
      "Retrying in 10 seconds...\n",
      "Error processing document 119: Expecting value: line 1 column 1 (char 0)\n",
      "Retrying in 10 seconds...\n",
      "Error processing document 126: Expecting ',' delimiter: line 6 column 74 (char 425)\n",
      "Retrying in 10 seconds...\n",
      "Error processing document 126: Unterminated string starting at: line 6 column 1 (char 378)\n",
      "Retrying in 10 seconds...\n",
      "Error processing document 126: Expecting value: line 1 column 1 (char 0)\n",
      "Retrying in 10 seconds...\n",
      "Error processing document 131: Expecting value: line 1 column 1 (char 0)\n",
      "Retrying in 10 seconds...\n",
      "Error processing document 131: Extra data: line 1 column 563 (char 562)\n",
      "Retrying in 10 seconds...\n",
      "Error processing document 132: Expecting value: line 1 column 1 (char 0)\n",
      "Retrying in 10 seconds...\n",
      "Error processing document 133: Expecting ',' delimiter: line 1 column 428 (char 427)\n",
      "Retrying in 10 seconds...\n",
      "Error processing document 150: Expecting value: line 1 column 1 (char 0)\n",
      "Retrying in 10 seconds...\n",
      "Error processing document 154: Extra data: line 3 column 1 (char 444)\n",
      "Retrying in 10 seconds...\n",
      "Error processing document 156: Extra data: line 3 column 1 (char 373)\n",
      "Retrying in 10 seconds...\n",
      "Error processing document 157: Expecting ',' delimiter: line 6 column 137 (char 698)\n",
      "Retrying in 10 seconds...\n",
      "Error processing document 160: Expecting ',' delimiter: line 6 column 137 (char 635)\n",
      "Retrying in 10 seconds...\n",
      "Error processing document 162: Expecting ',' delimiter: line 1 column 463 (char 462)\n",
      "Retrying in 10 seconds...\n",
      "Error processing document 169: list indices must be integers or slices, not str\n",
      "Retrying in 10 seconds...\n",
      "Error processing document 172: Expecting value: line 1 column 1 (char 0)\n",
      "Retrying in 10 seconds...\n",
      "Error processing document 174: Expecting ',' delimiter: line 1 column 432 (char 431)\n",
      "Retrying in 10 seconds...\n",
      "Error processing document 178: Extra data: line 3 column 1 (char 565)\n",
      "Retrying in 10 seconds...\n",
      "Error processing document 178: Expecting ',' delimiter: line 6 column 108 (char 459)\n",
      "Retrying in 10 seconds...\n",
      "Error processing document 189: Expecting ',' delimiter: line 8 column 2 (char 482)\n",
      "Retrying in 10 seconds...\n",
      "Error processing document 189: Expecting value: line 1 column 1 (char 0)\n",
      "Retrying in 10 seconds...\n",
      "Error processing document 197: Expecting ',' delimiter: line 6 column 108 (char 503)\n",
      "Retrying in 10 seconds...\n",
      "Error processing document 200: Extra data: line 6 column 1 (char 343)\n",
      "Retrying in 10 seconds...\n",
      "Error processing document 200: Expecting ',' delimiter: line 6 column 181 (char 758)\n",
      "Retrying in 10 seconds...\n",
      "Error processing document 204: Extra data: line 3 column 1 (char 430)\n",
      "Retrying in 10 seconds...\n",
      "Error processing document 205: Extra data: line 3 column 1 (char 437)\n",
      "Retrying in 10 seconds...\n",
      "Error processing document 206: Unterminated string starting at: line 1 column 360 (char 359)\n",
      "Retrying in 10 seconds...\n",
      "Error processing document 206: Expecting ',' delimiter: line 2 column 90 (char 105)\n",
      "Retrying in 10 seconds...\n"
     ]
    }
   ],
   "source": [
    "for doc in tqdm(documents): \n",
    "    doc_id = doc['id']\n",
    "    if doc_id in results:\n",
    "        continue\n",
    "\n",
    "    while True:\n",
    "        try:\n",
    "            questions_raw = generate_questions(doc)\n",
    "            questions = json.loads(questions_raw)\n",
    "            results[doc_id] = questions['questions']\n",
    "            break  # Exit the loop if successful\n",
    "        except Exception as e:\n",
    "            print(f\"Error processing document {doc_id}: {e}\")\n",
    "            print(\"Retrying in 10 seconds...\")\n",
    "            time.sleep(10)"
   ]
  },
  {
   "cell_type": "code",
   "execution_count": 91,
   "id": "6518f212-0881-474a-9872-3690e28cdf18",
   "metadata": {},
   "outputs": [],
   "source": [
    "final_results = []\n",
    "\n",
    "for doc_id, questions in results.items():\n",
    "    for q in questions:\n",
    "        final_results.append((doc_id, q))"
   ]
  },
  {
   "cell_type": "code",
   "execution_count": 92,
   "id": "b9b2dc9f-7c32-4e9c-8fbb-86d67e863442",
   "metadata": {},
   "outputs": [
    {
     "data": {
      "text/plain": [
       "(0,\n",
       " \"How do I make sure I'm positioning my hands correctly in a high plank for a proper push-up?\")"
      ]
     },
     "execution_count": 92,
     "metadata": {},
     "output_type": "execute_result"
    }
   ],
   "source": [
    "final_results[0]"
   ]
  },
  {
   "cell_type": "code",
   "execution_count": 93,
   "id": "43b9cc50-6e88-4d11-a31f-007336e96e3a",
   "metadata": {},
   "outputs": [],
   "source": [
    "df_results = pd.DataFrame(final_results, columns=['id', 'question'])"
   ]
  },
  {
   "cell_type": "code",
   "execution_count": 94,
   "id": "83921b2f-5ce2-40b1-b5a8-79a7c0b43966",
   "metadata": {},
   "outputs": [],
   "source": [
    "df_results.to_csv('../data/ground-truth-retrieval-groq.csv', index=False)"
   ]
  },
  {
   "cell_type": "code",
   "execution_count": 2,
   "id": "8e96b581-fa9e-4e18-bbc3-e230c09ff0bb",
   "metadata": {},
   "outputs": [
    {
     "name": "stdout",
     "output_type": "stream",
     "text": [
      "id,question\n",
      "0,How do I make sure I'm positioning my hands correctly in a high plank for a proper push-up?\n",
      "0,What muscles will I be targeting if I do push-ups on a daily basis?\n",
      "0,Is it okay to do push-ups with my hands closer together or spread wide apart?\n",
      "0,Can I adjust the angle of my body during the push-up to target different muscle groups?\n",
      "0,What are some common mistakes I should avoid when performing push-ups for the first time?\n",
      "1,What is the correct stance for performing Squats?\n",
      "1,How low should I go when doing Squats?\n",
      "1,\"Can I use any type of equipment for Squats, or do I need to rely on my own body weight?\"\n",
      "1,What muscle groups am I targeting with this exercise?\n"
     ]
    }
   ],
   "source": [
    "!head ../data/ground-truth-retrieval-groq.csv"
   ]
  }
 ],
 "metadata": {
  "kernelspec": {
   "display_name": "Python 3 (ipykernel)",
   "language": "python",
   "name": "python3"
  },
  "language_info": {
   "codemirror_mode": {
    "name": "ipython",
    "version": 3
   },
   "file_extension": ".py",
   "mimetype": "text/x-python",
   "name": "python",
   "nbconvert_exporter": "python",
   "pygments_lexer": "ipython3",
   "version": "3.12.3"
  }
 },
 "nbformat": 4,
 "nbformat_minor": 5
}
