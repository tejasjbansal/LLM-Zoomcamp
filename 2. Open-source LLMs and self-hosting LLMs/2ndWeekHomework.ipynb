{
 "cells": [
  {
   "cell_type": "markdown",
   "id": "88cc0669-c468-41e4-adcb-924446a97bf7",
   "metadata": {},
   "source": [
    "# Q3. Running the LLM. Output from 10 * 10"
   ]
  },
  {
   "cell_type": "code",
   "execution_count": 6,
   "id": "1ce28c8d-9bac-47c1-9e8d-66d888d7092b",
   "metadata": {},
   "outputs": [],
   "source": [
    "from openai import OpenAI\n",
    "\n",
    "client = OpenAI(\n",
    "    base_url='http://localhost:11434/v1/',\n",
    "    api_key='ollama',\n",
    ")"
   ]
  },
  {
   "cell_type": "code",
   "execution_count": 7,
   "id": "cbdde743-aa3e-4875-91f1-c640414c7f24",
   "metadata": {},
   "outputs": [],
   "source": [
    "def llm(prompt):\n",
    "    response = client.chat.completions.create(\n",
    "        model='gemma:2b',\n",
    "        temperature=0.0,\n",
    "        messages=[{\"role\": \"user\", \"content\": prompt}]\n",
    "    )\n",
    "    \n",
    "    return response.choices[0].message.content"
   ]
  },
  {
   "cell_type": "code",
   "execution_count": 5,
   "id": "76028cdd-3185-4a88-97f2-94b8ddf98fbb",
   "metadata": {},
   "outputs": [
    {
     "data": {
      "text/plain": [
       "'The question is 10 * 10.\\n\\nThe answer is 100.'"
      ]
     },
     "execution_count": 5,
     "metadata": {},
     "output_type": "execute_result"
    }
   ],
   "source": [
    "llm(\"please evalute this mathematic question and give the proper answer: 10 * 10\")"
   ]
  },
  {
   "cell_type": "markdown",
   "id": "36e7bf99-0a31-46d8-80e1-9a06f5db737c",
   "metadata": {},
   "source": [
    "# Q6. Serving the LLM. Number of output tokens"
   ]
  },
  {
   "cell_type": "code",
   "execution_count": 12,
   "id": "a9332ec6-1696-4484-ae77-a21161866a25",
   "metadata": {},
   "outputs": [],
   "source": [
    "def llm(prompt):\n",
    "    response = client.chat.completions.create(\n",
    "        model='gemma:2b',\n",
    "        temperature=0.0,\n",
    "        messages=[{\"role\": \"user\", \"content\": prompt}]\n",
    "    )\n",
    "    \n",
    "    # Extract the response content\n",
    "    content = response.choices[0].message.content\n",
    "    \n",
    "    # Extract the token usage\n",
    "    prompt_tokens = response.usage.prompt_tokens\n",
    "    completion_tokens = response.usage.completion_tokens\n",
    "    total_tokens = response.usage.total_tokens\n",
    "    \n",
    "    return content, prompt_tokens, completion_tokens, total_tokens\n"
   ]
  },
  {
   "cell_type": "code",
   "execution_count": 13,
   "id": "f3366c77-e0ca-4c7a-a38a-c6a6a5a165d7",
   "metadata": {},
   "outputs": [
    {
     "name": "stdout",
     "output_type": "stream",
     "text": [
      "Response Content:\n",
      "Sure, here's the formula for energy:\n",
      "\n",
      "**E = K + U**\n",
      "\n",
      "Where:\n",
      "\n",
      "* **E** is the energy in joules (J)\n",
      "* **K** is the kinetic energy in joules (J)\n",
      "* **U** is the potential energy in joules (J)\n",
      "\n",
      "**Kinetic energy (K)** is the energy an object possesses when it moves or is in motion. It is calculated as half the product of an object's mass (m) and its velocity (v) squared:\n",
      "\n",
      "**K = 1/2 * m * v^2**\n",
      "\n",
      "**Potential energy (U)** is the energy an object possesses when it is in a position or has a specific configuration. It is calculated as the product of an object's mass and the gravitational constant (g) multiplied by the height or distance of the object from a reference point.\n",
      "\n",
      "**Gravitational potential energy (U)** is given by the formula:\n",
      "\n",
      "**U = mgh**\n",
      "\n",
      "Where:\n",
      "\n",
      "* **m** is the mass of the object in kilograms (kg)\n",
      "* **g** is the acceleration due to gravity in meters per second squared (m/s^2)\n",
      "* **h** is the height or distance of the object in meters (m)\n",
      "\n",
      "The formula for energy can be used to calculate the total energy of an object, the energy of a specific part of an object, or the change in energy of an object over time.\n",
      "\n",
      "Prompt Tokens: 0\n",
      "Completion Tokens: 304\n",
      "Total Tokens: 304\n"
     ]
    }
   ],
   "source": [
    "prompt = \"What's the formula for energy?\"\n",
    "\n",
    "content, prompt_tokens, completion_tokens, total_tokens = llm(prompt)\n",
    "\n",
    "print(\"Response Content:\")\n",
    "print(content)\n",
    "print(\"\\nPrompt Tokens:\", prompt_tokens)\n",
    "print(\"Completion Tokens:\", completion_tokens)\n",
    "print(\"Total Tokens:\", total_tokens)"
   ]
  },
  {
   "cell_type": "code",
   "execution_count": null,
   "id": "a0befed6-7caa-4351-8337-d972c671137e",
   "metadata": {},
   "outputs": [],
   "source": []
  }
 ],
 "metadata": {
  "kernelspec": {
   "display_name": "Python 3 (ipykernel)",
   "language": "python",
   "name": "python3"
  },
  "language_info": {
   "codemirror_mode": {
    "name": "ipython",
    "version": 3
   },
   "file_extension": ".py",
   "mimetype": "text/x-python",
   "name": "python",
   "nbconvert_exporter": "python",
   "pygments_lexer": "ipython3",
   "version": "3.10.13"
  }
 },
 "nbformat": 4,
 "nbformat_minor": 5
}
