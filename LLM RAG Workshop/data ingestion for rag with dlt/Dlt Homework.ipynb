{
 "cells": [
  {
   "cell_type": "markdown",
   "id": "c88aff0e-d357-488b-ad88-397172573ab7",
   "metadata": {},
   "source": [
    "# Q1. Rows in LanceDB\n",
    "- How many rows does the lancedb table \"notion_pages__homework\" have?"
   ]
  },
  {
   "cell_type": "code",
   "execution_count": 1,
   "id": "7fb920e8-3408-4a00-bfa3-202d75318301",
   "metadata": {},
   "outputs": [],
   "source": [
    "import os\n",
    "# from google.colab import userdata\n",
    "\n",
    "# os.environ[\"SOURCES__REST_API__NOTION__API_KEY\"] = userdata.get(\"SOURCES__REST_API__NOTION__API_KEY\")\n",
    "os.environ[\"SOURCES__REST_API__NOTION__API_KEY\"] = \"secret_q4QgENGc9JKXgGContzdV6Z6KMTwzLYXWX9VMFi1dlb\"\n",
    "\n",
    "os.environ[\"DESTINATION__LANCEDB__EMBEDDING_MODEL_PROVIDER\"] = \"sentence-transformers\"\n",
    "os.environ[\"DESTINATION__LANCEDB__EMBEDDING_MODEL\"] = \"all-MiniLM-L6-v2\"\n",
    "\n",
    "os.environ[\"DESTINATION__LANCEDB__CREDENTIALS__URI\"] = \".lancedb\""
   ]
  },
  {
   "cell_type": "code",
   "execution_count": 2,
   "id": "904b9b4b-d219-4ea2-804a-3d796b9af52a",
   "metadata": {},
   "outputs": [],
   "source": [
    "import dlt\n",
    "from rest_api import RESTAPIConfig, rest_api_source\n",
    "\n",
    "from dlt.sources.helpers.rest_client.paginators import BasePaginator, JSONResponsePaginator\n",
    "from dlt.sources.helpers.requests import Response, Request\n",
    "\n",
    "from dlt.destinations.adapters import lancedb_adapter"
   ]
  },
  {
   "cell_type": "code",
   "execution_count": 14,
   "id": "250b547a-7abd-4f14-bab7-d5de9337cedd",
   "metadata": {},
   "outputs": [
    {
     "name": "stderr",
     "output_type": "stream",
     "text": [
      "2024-07-09 09:35:51,696|[WARNING]|2628|125474931188352|dlt|client.py|detect_paginator:281|Fallback paginator used: SinglePagePaginator at 721dbfb2cca0. Please provide right paginator manually.\n",
      "2024-07-09 09:35:52,542|[WARNING]|2628|125474931188352|dlt|client.py|detect_paginator:281|Fallback paginator used: SinglePagePaginator at 721dbfb5d120. Please provide right paginator manually.\n"
     ]
    },
    {
     "name": "stdout",
     "output_type": "stream",
     "text": [
      "int64\n",
      "version\n",
      "int64\n",
      "engine_version\n",
      "string\n",
      "pipeline_name\n",
      "string\n",
      "state\n",
      "timestamp[us, tz=UTC]\n",
      "created_at\n",
      "string\n",
      "version_hash\n",
      "string\n",
      "_dlt_load_id\n",
      "string\n",
      "_dlt_id\n",
      "_dlt_pipeline_state\n",
      "[]\n",
      "int64\n",
      "version\n",
      "int64\n",
      "engine_version\n",
      "timestamp[us, tz=UTC]\n",
      "inserted_at\n",
      "string\n",
      "schema_name\n",
      "string\n",
      "version_hash\n",
      "string\n",
      "schema\n",
      "_dlt_version\n",
      "[]\n",
      "homework\n",
      "[{'name': 'block_id', 'nullable': False, 'primary_key': True, 'data_type': 'text'}, {'name': 'block_type', 'data_type': 'text', 'nullable': True}, {'name': 'content', 'x-lancedb-embed': True, 'data_type': 'text', 'nullable': True}, {'dedup_sort': 'desc', 'name': 'last_edited_time', 'data_type': 'timestamp', 'nullable': True}, {'name': 'inserted_at_time', 'data_type': 'timestamp', 'nullable': True}, {'name': '_dlt_load_id', 'data_type': 'text', 'nullable': False}, {'name': '_dlt_id', 'data_type': 'text', 'nullable': False, 'unique': True}]\n",
      "string\n",
      "load_id\n",
      "string\n",
      "schema_name\n",
      "int64\n",
      "status\n",
      "timestamp[us, tz=UTC]\n",
      "inserted_at\n",
      "string\n",
      "schema_version_hash\n",
      "_dlt_loads\n",
      "[]\n",
      "UPLOAD\n",
      "Pipeline homework_pipeline load step completed in 19.02 seconds\n",
      "1 load package(s) were loaded to destination LanceDB and into dataset notion_pages\n",
      "The LanceDB destination used <dlt.destinations.impl.lancedb.configuration.LanceDBCredentials object at 0x721dbfb50910> location to store data\n",
      "Load package 1720517750.9997027 is LOADED and contains no failed jobs\n"
     ]
    }
   ],
   "source": [
    "from datetime import datetime, timezone\n",
    "\n",
    "@dlt.resource(name=\"employee_handbook\")\n",
    "def rest_api_notion_resource():\n",
    "    notion_config: RESTAPIConfig = {\n",
    "        \"client\": {\n",
    "            \"base_url\": \"https://api.notion.com/v1/\",\n",
    "            \"auth\": {\n",
    "                \"token\": dlt.secrets[\"sources.rest_api.notion.api_key\"]\n",
    "            },\n",
    "            \"headers\":{\n",
    "                \"Content-Type\": \"application/json\",\n",
    "                \"Notion-Version\": \"2022-06-28\"\n",
    "            }\n",
    "        },\n",
    "        \"resources\": [\n",
    "            {\n",
    "                \"name\": \"search\",\n",
    "                \"endpoint\": {\n",
    "                    \"path\": \"search\",\n",
    "                    \"method\": \"POST\",\n",
    "                    \"json\": {\n",
    "                        \"query\": \"homework\",\n",
    "                        \"sort\": {\n",
    "                            \"direction\": \"ascending\",\n",
    "                            \"timestamp\": \"last_edited_time\"\n",
    "                        }\n",
    "                    },\n",
    "                    \"data_selector\": \"results\"\n",
    "                }\n",
    "            },\n",
    "            {\n",
    "                \"name\": \"page_content\",\n",
    "                \"endpoint\": {\n",
    "                    \"path\": \"blocks/{page_id}/children\",\n",
    "                    \"params\": {\n",
    "                        \"page_id\": {\n",
    "                            \"type\": \"resolve\",\n",
    "                            \"resource\": \"search\",\n",
    "                            \"field\": \"id\"\n",
    "                        }\n",
    "                    },\n",
    "                }\n",
    "            }\n",
    "        ]\n",
    "    }\n",
    "\n",
    "    yield from rest_api_source(notion_config, name=\"employee_handbook\")\n",
    "\n",
    "\n",
    "def extract_page_content(response):\n",
    "    block_id = response[\"id\"]\n",
    "    last_edited_time = response[\"last_edited_time\"]\n",
    "    block_type = response.get(\"type\", \"Not paragraph\")\n",
    "    if block_type != \"paragraph\":\n",
    "        content = \"\"\n",
    "    else:\n",
    "        try:\n",
    "            content = response[\"paragraph\"][\"rich_text\"][0][\"plain_text\"]\n",
    "        except IndexError:\n",
    "            content = \"\"\n",
    "    return {\n",
    "        \"block_id\": block_id,\n",
    "        \"block_type\": block_type,\n",
    "        \"content\": content,\n",
    "        \"last_edited_time\": last_edited_time,\n",
    "        \"inserted_at_time\": datetime.now(timezone.utc)\n",
    "    }\n",
    "\n",
    "\n",
    "@dlt.resource(\n",
    "    name=\"employee_handbook\",\n",
    "    write_disposition=\"merge\",\n",
    "    primary_key=\"block_id\",\n",
    "    columns={\"last_edited_time\": {\"dedup_sort\": \"desc\"}}\n",
    ")\n",
    "def rest_api_notion_incremental(\n",
    "    last_edited_time=dlt.sources.incremental(\"last_edited_time\", initial_value=\"2024-06-26T08:16:00.000Z\", primary_key=(\"block_id\"))\n",
    "):\n",
    "    for block in rest_api_notion_resource.add_map(extract_page_content):\n",
    "        if not len(block[\"content\"]):\n",
    "            continue\n",
    "        yield block\n",
    "\n",
    "\n",
    "def load_notion() -> None:\n",
    "    pipeline = dlt.pipeline(\n",
    "        pipeline_name=\"homework_pipeline\",\n",
    "        destination=\"lancedb\",\n",
    "        dataset_name=\"notion_pages\",\n",
    "        # full_refresh=True\n",
    "    )\n",
    "\n",
    "    load_info = pipeline.run(\n",
    "        lancedb_adapter(\n",
    "            rest_api_notion_incremental,\n",
    "            embed=\"content\"\n",
    "        ),\n",
    "        table_name=\"homework\",\n",
    "        write_disposition=\"merge\"\n",
    "    )\n",
    "    print(load_info)\n",
    "\n",
    "\n",
    "load_notion()\n"
   ]
  },
  {
   "cell_type": "code",
   "execution_count": 15,
   "id": "291c6687-858f-4662-97d3-2353714b47e7",
   "metadata": {},
   "outputs": [
    {
     "name": "stdout",
     "output_type": "stream",
     "text": [
      "['notion_pages____dlt_loads', 'notion_pages____dlt_pipeline_state', 'notion_pages____dlt_version', 'notion_pages___dltSentinelTable', 'notion_pages___employee_handbook', 'notion_pages___homework', 'qanda____dlt_loads', 'qanda____dlt_pipeline_state', 'qanda____dlt_version', 'qanda___dltSentinelTable', 'qanda___documents', 'qanda_embedded____dlt_loads', 'qanda_embedded____dlt_pipeline_state', 'qanda_embedded____dlt_version', 'qanda_embedded___dltSentinelTable', 'qanda_embedded___documents']\n"
     ]
    }
   ],
   "source": [
    "import lancedb\n",
    "db = lancedb.connect(\"./.lancedb\")\n",
    "print(db.table_names())"
   ]
  },
  {
   "cell_type": "code",
   "execution_count": 18,
   "id": "886f8eff-2de8-490a-93de-310afa290afe",
   "metadata": {},
   "outputs": [],
   "source": [
    "db_table = db.open_table(\"notion_pages___homework\")\n",
    "\n",
    "df = db_table.to_pandas()"
   ]
  },
  {
   "cell_type": "code",
   "execution_count": 20,
   "id": "82c7da5a-3d99-4f8a-b009-3f0923f4725d",
   "metadata": {},
   "outputs": [
    {
     "data": {
      "text/html": [
       "<div>\n",
       "<style scoped>\n",
       "    .dataframe tbody tr th:only-of-type {\n",
       "        vertical-align: middle;\n",
       "    }\n",
       "\n",
       "    .dataframe tbody tr th {\n",
       "        vertical-align: top;\n",
       "    }\n",
       "\n",
       "    .dataframe thead th {\n",
       "        text-align: right;\n",
       "    }\n",
       "</style>\n",
       "<table border=\"1\" class=\"dataframe\">\n",
       "  <thead>\n",
       "    <tr style=\"text-align: right;\">\n",
       "      <th></th>\n",
       "      <th>id__</th>\n",
       "      <th>vector__</th>\n",
       "      <th>block_id</th>\n",
       "      <th>block_type</th>\n",
       "      <th>content</th>\n",
       "      <th>last_edited_time</th>\n",
       "      <th>inserted_at_time</th>\n",
       "      <th>_dlt_load_id</th>\n",
       "      <th>_dlt_id</th>\n",
       "    </tr>\n",
       "  </thead>\n",
       "  <tbody>\n",
       "    <tr>\n",
       "      <th>0</th>\n",
       "      <td>c69f1ecf-7b02-5810-8286-3f42659ae9d4</td>\n",
       "      <td>[-0.024265619, 0.04746082, -0.011796436, 0.063...</td>\n",
       "      <td>a8196881-ae94-4767-8767-92fe1a327d24</td>\n",
       "      <td>paragraph</td>\n",
       "      <td>We owe our success to our employees. To show o...</td>\n",
       "      <td>2024-07-05 22:34:00+00:00</td>\n",
       "      <td>2024-07-09 09:35:52.543479+00:00</td>\n",
       "      <td>1720517750.9997027</td>\n",
       "      <td>+uCFPqWUXKnKVw</td>\n",
       "    </tr>\n",
       "    <tr>\n",
       "      <th>1</th>\n",
       "      <td>f2c18ac0-50f5-5b72-a871-dc5a46780353</td>\n",
       "      <td>[-0.04966163, 0.10853516, -0.009762589, -0.036...</td>\n",
       "      <td>31fcbf26-2ca5-468a-8af8-d7eb4c2db8c8</td>\n",
       "      <td>paragraph</td>\n",
       "      <td>We want to ensure that private information abo...</td>\n",
       "      <td>2024-07-05 22:38:00+00:00</td>\n",
       "      <td>2024-07-09 09:35:52.547472+00:00</td>\n",
       "      <td>1720517750.9997027</td>\n",
       "      <td>T3zgJVQqQOXgFQ</td>\n",
       "    </tr>\n",
       "    <tr>\n",
       "      <th>2</th>\n",
       "      <td>4553193e-c655-54df-9a33-cfc570bf34d0</td>\n",
       "      <td>[-0.06316319, 0.17331506, 0.025351718, -0.0191...</td>\n",
       "      <td>da7721fd-3d0f-4c04-bc5e-825ad60bed1c</td>\n",
       "      <td>paragraph</td>\n",
       "      <td>Employee health is important to us. We don’t d...</td>\n",
       "      <td>2024-07-05 22:52:00+00:00</td>\n",
       "      <td>2024-07-09 09:35:52.547660+00:00</td>\n",
       "      <td>1720517750.9997027</td>\n",
       "      <td>igUPRmdFIhFyEA</td>\n",
       "    </tr>\n",
       "    <tr>\n",
       "      <th>3</th>\n",
       "      <td>791be1a1-6c67-530d-87ab-bd9912500ea5</td>\n",
       "      <td>[-0.10974315, 0.10586077, 0.0032906013, -0.021...</td>\n",
       "      <td>ff36dcf3-5faa-40b4-ad8e-92fdc952201e</td>\n",
       "      <td>paragraph</td>\n",
       "      <td>Our company is dedicated to maintaining a safe...</td>\n",
       "      <td>2024-07-05 22:52:00+00:00</td>\n",
       "      <td>2024-07-09 09:35:52.547819+00:00</td>\n",
       "      <td>1720517750.9997027</td>\n",
       "      <td>NbGS4H3ot7IzRQ</td>\n",
       "    </tr>\n",
       "    <tr>\n",
       "      <th>4</th>\n",
       "      <td>a83497f4-922c-5d62-bab1-53804e93c811</td>\n",
       "      <td>[0.052423332, -0.06457594, 0.065862976, 0.0145...</td>\n",
       "      <td>a1ff9697-4bb6-4f1e-b464-dda296dbd307</td>\n",
       "      <td>paragraph</td>\n",
       "      <td>If your job doesn’t require you to be present ...</td>\n",
       "      <td>2024-07-05 22:52:00+00:00</td>\n",
       "      <td>2024-07-09 09:35:52.548009+00:00</td>\n",
       "      <td>1720517750.9997027</td>\n",
       "      <td>68bMxZKe4MnHOw</td>\n",
       "    </tr>\n",
       "  </tbody>\n",
       "</table>\n",
       "</div>"
      ],
      "text/plain": [
       "                                   id__  \\\n",
       "0  c69f1ecf-7b02-5810-8286-3f42659ae9d4   \n",
       "1  f2c18ac0-50f5-5b72-a871-dc5a46780353   \n",
       "2  4553193e-c655-54df-9a33-cfc570bf34d0   \n",
       "3  791be1a1-6c67-530d-87ab-bd9912500ea5   \n",
       "4  a83497f4-922c-5d62-bab1-53804e93c811   \n",
       "\n",
       "                                            vector__  \\\n",
       "0  [-0.024265619, 0.04746082, -0.011796436, 0.063...   \n",
       "1  [-0.04966163, 0.10853516, -0.009762589, -0.036...   \n",
       "2  [-0.06316319, 0.17331506, 0.025351718, -0.0191...   \n",
       "3  [-0.10974315, 0.10586077, 0.0032906013, -0.021...   \n",
       "4  [0.052423332, -0.06457594, 0.065862976, 0.0145...   \n",
       "\n",
       "                               block_id block_type  \\\n",
       "0  a8196881-ae94-4767-8767-92fe1a327d24  paragraph   \n",
       "1  31fcbf26-2ca5-468a-8af8-d7eb4c2db8c8  paragraph   \n",
       "2  da7721fd-3d0f-4c04-bc5e-825ad60bed1c  paragraph   \n",
       "3  ff36dcf3-5faa-40b4-ad8e-92fdc952201e  paragraph   \n",
       "4  a1ff9697-4bb6-4f1e-b464-dda296dbd307  paragraph   \n",
       "\n",
       "                                             content  \\\n",
       "0  We owe our success to our employees. To show o...   \n",
       "1  We want to ensure that private information abo...   \n",
       "2  Employee health is important to us. We don’t d...   \n",
       "3  Our company is dedicated to maintaining a safe...   \n",
       "4  If your job doesn’t require you to be present ...   \n",
       "\n",
       "           last_edited_time                 inserted_at_time  \\\n",
       "0 2024-07-05 22:34:00+00:00 2024-07-09 09:35:52.543479+00:00   \n",
       "1 2024-07-05 22:38:00+00:00 2024-07-09 09:35:52.547472+00:00   \n",
       "2 2024-07-05 22:52:00+00:00 2024-07-09 09:35:52.547660+00:00   \n",
       "3 2024-07-05 22:52:00+00:00 2024-07-09 09:35:52.547819+00:00   \n",
       "4 2024-07-05 22:52:00+00:00 2024-07-09 09:35:52.548009+00:00   \n",
       "\n",
       "         _dlt_load_id         _dlt_id  \n",
       "0  1720517750.9997027  +uCFPqWUXKnKVw  \n",
       "1  1720517750.9997027  T3zgJVQqQOXgFQ  \n",
       "2  1720517750.9997027  igUPRmdFIhFyEA  \n",
       "3  1720517750.9997027  NbGS4H3ot7IzRQ  \n",
       "4  1720517750.9997027  68bMxZKe4MnHOw  "
      ]
     },
     "execution_count": 20,
     "metadata": {},
     "output_type": "execute_result"
    }
   ],
   "source": [
    "df.head()"
   ]
  },
  {
   "cell_type": "markdown",
   "id": "cf8b3046-39fb-482b-9bb8-238114d5c93c",
   "metadata": {},
   "source": [
    "# Q2. Running the Pipeline: Last edited time\n",
    "- In the demo, we created an incremental dlt resource rest_api_notion_incremental that keeps track of last_edited_time. What value does it store after you've run your pipeline once? (Hint: you will be able to get this value by performing some aggregation function on the column last_edited_time of the table)"
   ]
  },
  {
   "cell_type": "code",
   "execution_count": 23,
   "id": "bb27688b-aa95-40cf-8767-aaba99df8230",
   "metadata": {},
   "outputs": [
    {
     "data": {
      "text/plain": [
       "Timestamp('2024-07-05 23:33:00+0000', tz='UTC')"
      ]
     },
     "execution_count": 23,
     "metadata": {},
     "output_type": "execute_result"
    }
   ],
   "source": [
    "max(df['last_edited_time'])"
   ]
  },
  {
   "cell_type": "markdown",
   "id": "aa8a2f87-5396-49ec-9d2a-6bc14d1e3b3c",
   "metadata": {},
   "source": [
    "# Q3. Ask the Assistant\n",
    "- Find out with the help of the AI assistant: how many PTO days are the employees entitled to in a year?"
   ]
  },
  {
   "cell_type": "code",
   "execution_count": 24,
   "id": "d70b12d2-6038-4620-b3be-dc1e095e043d",
   "metadata": {},
   "outputs": [],
   "source": [
    "import ollama"
   ]
  },
  {
   "cell_type": "code",
   "execution_count": 25,
   "id": "a84b756d-07d1-4fc9-9f80-54ce14e5f296",
   "metadata": {},
   "outputs": [],
   "source": [
    "def retrieve_context_from_lancedb(dbtable, question, top_k=2):\n",
    "\n",
    "    query_results = dbtable.search(query=question).to_list()\n",
    "    context = \"\\n\".join([result[\"content\"] for result in query_results[:top_k]])\n",
    "\n",
    "    return context"
   ]
  },
  {
   "cell_type": "code",
   "execution_count": 26,
   "id": "30a6f795-72f6-4574-8db6-3d07c3d11c8f",
   "metadata": {},
   "outputs": [],
   "source": [
    "def main():\n",
    "  # Connect to the lancedb table\n",
    "  db = lancedb.connect(\".lancedb\")\n",
    "  dbtable = db.open_table(\"notion_pages___homework\")\n",
    "\n",
    "  # A system prompt telling ollama to accept input in the form of \"Question: ... ; Context: ...\"\n",
    "  messages = [\n",
    "      {\"role\": \"system\", \"content\": \"You are a helpful assistant that helps users understand policies inside a company's employee handbook. The user will first ask you a question and then provide you relevant paragraphs from the handbook as context. Please answer the question based on the provided context. For any details missing in the paragraph, encourage the employee to contact the HR for that information. Please keep the responses conversational.\"}\n",
    "  ]\n",
    "\n",
    "  while True:\n",
    "    # Accept user question\n",
    "    question = input(\"You: \")\n",
    "\n",
    "    # Retrieve the relevant paragraphs on the question\n",
    "    context = retrieve_context_from_lancedb(dbtable,question,top_k=2)\n",
    "\n",
    "    # Create a user prompt using the question and retrieved context\n",
    "    messages.append(\n",
    "        {\"role\": \"user\", \"content\": f\"Question: '{question}'; Context:'{context}'\"}\n",
    "    )\n",
    "\n",
    "    # Get the response from the LLM\n",
    "    response = ollama.chat(\n",
    "        model=\"llama2-uncensored\",\n",
    "        messages=messages\n",
    "    )\n",
    "    response_content = response['message']['content']\n",
    "    print(f\"Assistant: {response_content}\")\n",
    "\n",
    "    # Add the response into the context window\n",
    "    messages.append(\n",
    "        {\"role\": \"assistant\", \"content\":response_content}\n",
    "    )"
   ]
  },
  {
   "cell_type": "code",
   "execution_count": 27,
   "id": "644a2314-ab43-4688-9627-860fa2fa53dd",
   "metadata": {},
   "outputs": [
    {
     "name": "stdin",
     "output_type": "stream",
     "text": [
      "You:  how many PTO days are the employees entitled to in a year?\n"
     ]
    },
    {
     "name": "stdout",
     "output_type": "stream",
     "text": [
      "Assistant: Employees are entitled to 30 days of paid time off (PTO) per year, as mentioned in the handbook. If an employee wants to take PTO, they must send a request through their HRIS and get approval from their manager or HR. Employees can use unused PTO at any time after their first week with the company but cannot transfer it to the next year. \n",
      "If you leave our company, we may compensate accrued PTO with your final paycheck according to local law. When the law doesn’t have provisions, we will compensate accrued leave to employees who were not terminated for cause. If an employee is a non-exempt employee and works on a holiday, they will receive their regular hourly rate with a premium for working on that day.\n",
      "If you are still unclear about any details or would like more information, please contact the HR department directly to get clarification.\n"
     ]
    },
    {
     "ename": "KeyboardInterrupt",
     "evalue": "Interrupted by user",
     "output_type": "error",
     "traceback": [
      "\u001b[0;31m---------------------------------------------------------------------------\u001b[0m",
      "\u001b[0;31mKeyboardInterrupt\u001b[0m                         Traceback (most recent call last)",
      "Cell \u001b[0;32mIn[27], line 1\u001b[0m\n\u001b[0;32m----> 1\u001b[0m \u001b[43mmain\u001b[49m\u001b[43m(\u001b[49m\u001b[43m)\u001b[49m\n",
      "Cell \u001b[0;32mIn[26], line 13\u001b[0m, in \u001b[0;36mmain\u001b[0;34m()\u001b[0m\n\u001b[1;32m      7\u001b[0m messages \u001b[38;5;241m=\u001b[39m [\n\u001b[1;32m      8\u001b[0m     {\u001b[38;5;124m\"\u001b[39m\u001b[38;5;124mrole\u001b[39m\u001b[38;5;124m\"\u001b[39m: \u001b[38;5;124m\"\u001b[39m\u001b[38;5;124msystem\u001b[39m\u001b[38;5;124m\"\u001b[39m, \u001b[38;5;124m\"\u001b[39m\u001b[38;5;124mcontent\u001b[39m\u001b[38;5;124m\"\u001b[39m: \u001b[38;5;124m\"\u001b[39m\u001b[38;5;124mYou are a helpful assistant that helps users understand policies inside a company\u001b[39m\u001b[38;5;124m'\u001b[39m\u001b[38;5;124ms employee handbook. The user will first ask you a question and then provide you relevant paragraphs from the handbook as context. Please answer the question based on the provided context. For any details missing in the paragraph, encourage the employee to contact the HR for that information. Please keep the responses conversational.\u001b[39m\u001b[38;5;124m\"\u001b[39m}\n\u001b[1;32m      9\u001b[0m ]\n\u001b[1;32m     11\u001b[0m \u001b[38;5;28;01mwhile\u001b[39;00m \u001b[38;5;28;01mTrue\u001b[39;00m:\n\u001b[1;32m     12\u001b[0m   \u001b[38;5;66;03m# Accept user question\u001b[39;00m\n\u001b[0;32m---> 13\u001b[0m   question \u001b[38;5;241m=\u001b[39m \u001b[38;5;28;43minput\u001b[39;49m\u001b[43m(\u001b[49m\u001b[38;5;124;43m\"\u001b[39;49m\u001b[38;5;124;43mYou: \u001b[39;49m\u001b[38;5;124;43m\"\u001b[39;49m\u001b[43m)\u001b[49m\n\u001b[1;32m     15\u001b[0m   \u001b[38;5;66;03m# Retrieve the relevant paragraphs on the question\u001b[39;00m\n\u001b[1;32m     16\u001b[0m   context \u001b[38;5;241m=\u001b[39m retrieve_context_from_lancedb(dbtable,question,top_k\u001b[38;5;241m=\u001b[39m\u001b[38;5;241m2\u001b[39m)\n",
      "File \u001b[0;32m~/.local/lib/python3.10/site-packages/ipykernel/kernelbase.py:1282\u001b[0m, in \u001b[0;36mKernel.raw_input\u001b[0;34m(self, prompt)\u001b[0m\n\u001b[1;32m   1280\u001b[0m     msg \u001b[38;5;241m=\u001b[39m \u001b[38;5;124m\"\u001b[39m\u001b[38;5;124mraw_input was called, but this frontend does not support input requests.\u001b[39m\u001b[38;5;124m\"\u001b[39m\n\u001b[1;32m   1281\u001b[0m     \u001b[38;5;28;01mraise\u001b[39;00m StdinNotImplementedError(msg)\n\u001b[0;32m-> 1282\u001b[0m \u001b[38;5;28;01mreturn\u001b[39;00m \u001b[38;5;28;43mself\u001b[39;49m\u001b[38;5;241;43m.\u001b[39;49m\u001b[43m_input_request\u001b[49m\u001b[43m(\u001b[49m\n\u001b[1;32m   1283\u001b[0m \u001b[43m    \u001b[49m\u001b[38;5;28;43mstr\u001b[39;49m\u001b[43m(\u001b[49m\u001b[43mprompt\u001b[49m\u001b[43m)\u001b[49m\u001b[43m,\u001b[49m\n\u001b[1;32m   1284\u001b[0m \u001b[43m    \u001b[49m\u001b[38;5;28;43mself\u001b[39;49m\u001b[38;5;241;43m.\u001b[39;49m\u001b[43m_parent_ident\u001b[49m\u001b[43m[\u001b[49m\u001b[38;5;124;43m\"\u001b[39;49m\u001b[38;5;124;43mshell\u001b[39;49m\u001b[38;5;124;43m\"\u001b[39;49m\u001b[43m]\u001b[49m\u001b[43m,\u001b[49m\n\u001b[1;32m   1285\u001b[0m \u001b[43m    \u001b[49m\u001b[38;5;28;43mself\u001b[39;49m\u001b[38;5;241;43m.\u001b[39;49m\u001b[43mget_parent\u001b[49m\u001b[43m(\u001b[49m\u001b[38;5;124;43m\"\u001b[39;49m\u001b[38;5;124;43mshell\u001b[39;49m\u001b[38;5;124;43m\"\u001b[39;49m\u001b[43m)\u001b[49m\u001b[43m,\u001b[49m\n\u001b[1;32m   1286\u001b[0m \u001b[43m    \u001b[49m\u001b[43mpassword\u001b[49m\u001b[38;5;241;43m=\u001b[39;49m\u001b[38;5;28;43;01mFalse\u001b[39;49;00m\u001b[43m,\u001b[49m\n\u001b[1;32m   1287\u001b[0m \u001b[43m\u001b[49m\u001b[43m)\u001b[49m\n",
      "File \u001b[0;32m~/.local/lib/python3.10/site-packages/ipykernel/kernelbase.py:1325\u001b[0m, in \u001b[0;36mKernel._input_request\u001b[0;34m(self, prompt, ident, parent, password)\u001b[0m\n\u001b[1;32m   1322\u001b[0m \u001b[38;5;28;01mexcept\u001b[39;00m \u001b[38;5;167;01mKeyboardInterrupt\u001b[39;00m:\n\u001b[1;32m   1323\u001b[0m     \u001b[38;5;66;03m# re-raise KeyboardInterrupt, to truncate traceback\u001b[39;00m\n\u001b[1;32m   1324\u001b[0m     msg \u001b[38;5;241m=\u001b[39m \u001b[38;5;124m\"\u001b[39m\u001b[38;5;124mInterrupted by user\u001b[39m\u001b[38;5;124m\"\u001b[39m\n\u001b[0;32m-> 1325\u001b[0m     \u001b[38;5;28;01mraise\u001b[39;00m \u001b[38;5;167;01mKeyboardInterrupt\u001b[39;00m(msg) \u001b[38;5;28;01mfrom\u001b[39;00m \u001b[38;5;28;01mNone\u001b[39;00m\n\u001b[1;32m   1326\u001b[0m \u001b[38;5;28;01mexcept\u001b[39;00m \u001b[38;5;167;01mException\u001b[39;00m:\n\u001b[1;32m   1327\u001b[0m     \u001b[38;5;28mself\u001b[39m\u001b[38;5;241m.\u001b[39mlog\u001b[38;5;241m.\u001b[39mwarning(\u001b[38;5;124m\"\u001b[39m\u001b[38;5;124mInvalid Message:\u001b[39m\u001b[38;5;124m\"\u001b[39m, exc_info\u001b[38;5;241m=\u001b[39m\u001b[38;5;28;01mTrue\u001b[39;00m)\n",
      "\u001b[0;31mKeyboardInterrupt\u001b[0m: Interrupted by user"
     ]
    }
   ],
   "source": [
    "main()"
   ]
  },
  {
   "cell_type": "code",
   "execution_count": null,
   "id": "16ada58b-9079-469e-9692-d17dca242456",
   "metadata": {},
   "outputs": [],
   "source": []
  }
 ],
 "metadata": {
  "kernelspec": {
   "display_name": "Python 3 (ipykernel)",
   "language": "python",
   "name": "python3"
  },
  "language_info": {
   "codemirror_mode": {
    "name": "ipython",
    "version": 3
   },
   "file_extension": ".py",
   "mimetype": "text/x-python",
   "name": "python",
   "nbconvert_exporter": "python",
   "pygments_lexer": "ipython3",
   "version": "3.10.13"
  }
 },
 "nbformat": 4,
 "nbformat_minor": 5
}
