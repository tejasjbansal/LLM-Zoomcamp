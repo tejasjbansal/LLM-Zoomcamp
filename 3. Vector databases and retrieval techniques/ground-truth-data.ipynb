{
 "cells": [
  {
   "cell_type": "markdown",
   "id": "0d98b594-f2ff-4a83-80ff-71bacb47c9a9",
   "metadata": {},
   "source": [
    "# Step 1: Prepare documents"
   ]
  },
  {
   "cell_type": "code",
   "execution_count": 65,
   "id": "78d3ec20-0adc-4947-9c89-47303c08785d",
   "metadata": {},
   "outputs": [],
   "source": [
    "import requests \n",
    "\n",
    "docs_url = 'https://github.com/DataTalksClub/llm-zoomcamp/blob/main/01-intro/documents.json?raw=1'\n",
    "docs_response = requests.get(docs_url)\n",
    "documents_raw = docs_response.json()\n",
    "\n",
    "documents = []\n",
    "\n",
    "for course in documents_raw:\n",
    "    course_name = course['course']\n",
    "\n",
    "    for doc in course['documents']:\n",
    "        doc['course'] = course_name\n",
    "        documents.append(doc)"
   ]
  },
  {
   "cell_type": "code",
   "execution_count": 66,
   "id": "1960bea0-88f7-4052-8551-d0c9033dbb62",
   "metadata": {},
   "outputs": [
    {
     "data": {
      "text/plain": [
       "{'text': \"The purpose of this document is to capture frequently asked technical questions\\nThe exact day and hour of the course will be 15th Jan 2024 at 17h00. The course will start with the first  “Office Hours'' live.1\\nSubscribe to course public Google Calendar (it works from Desktop only).\\nRegister before the course starts using this link.\\nJoin the course Telegram channel with announcements.\\nDon’t forget to register in DataTalks.Club's Slack and join the channel.\",\n",
       " 'section': 'General course-related questions',\n",
       " 'question': 'Course - When will the course start?',\n",
       " 'course': 'data-engineering-zoomcamp'}"
      ]
     },
     "execution_count": 66,
     "metadata": {},
     "output_type": "execute_result"
    }
   ],
   "source": [
    "documents[0]"
   ]
  },
  {
   "cell_type": "markdown",
   "id": "d493adba-f7a1-46ba-8bd4-1bc047db3454",
   "metadata": {},
   "source": [
    "# Create HashId on each record document"
   ]
  },
  {
   "cell_type": "code",
   "execution_count": 67,
   "id": "dbf7d3c3-cad6-4dc5-8842-1b9bbf470af0",
   "metadata": {},
   "outputs": [],
   "source": [
    "import hashlib\n",
    "\n",
    "def generate_document_id(doc):\n",
    "    # combined = f\"{doc['course']}-{doc['question']}\"\n",
    "    combined = f\"{doc['course']}-{doc['question']}-{doc['text'][:10]}\"\n",
    "    hash_object = hashlib.md5(combined.encode())\n",
    "    hash_hex = hash_object.hexdigest()\n",
    "    document_id = hash_hex[:8]\n",
    "    return document_id"
   ]
  },
  {
   "cell_type": "code",
   "execution_count": 68,
   "id": "2dafd089-e2ee-4339-bab3-c45486786449",
   "metadata": {},
   "outputs": [],
   "source": [
    "for doc in documents:\n",
    "    doc['id'] = generate_document_id(doc)"
   ]
  },
  {
   "cell_type": "code",
   "execution_count": 69,
   "id": "4f535953-27db-4cac-a9c3-f5fc7e19141f",
   "metadata": {},
   "outputs": [
    {
     "data": {
      "text/plain": [
       "{'text': \"You don't need it. You're accepted. You can also just start learning and submitting homework without registering. It is not checked against any registered list. Registration is just to gauge interest before the start date.\",\n",
       " 'section': 'General course-related questions',\n",
       " 'question': 'Course - I have registered for the Data Engineering Bootcamp. When can I expect to receive the confirmation email?',\n",
       " 'course': 'data-engineering-zoomcamp',\n",
       " 'id': '0bbf41ec'}"
      ]
     },
     "execution_count": 69,
     "metadata": {},
     "output_type": "execute_result"
    }
   ],
   "source": [
    "documents[3]"
   ]
  },
  {
   "cell_type": "markdown",
   "id": "158864b4-e5e7-460f-894e-561bf18384e1",
   "metadata": {},
   "source": [
    "# Checking for Duplicates Id's"
   ]
  },
  {
   "cell_type": "code",
   "execution_count": 70,
   "id": "7fc69a71-e903-4ea1-aa79-5c64d27989c4",
   "metadata": {},
   "outputs": [],
   "source": [
    "from collections import defaultdict"
   ]
  },
  {
   "cell_type": "code",
   "execution_count": 71,
   "id": "58978a5c-f898-41fe-98c9-751a56abd3b3",
   "metadata": {},
   "outputs": [],
   "source": [
    "hashes = defaultdict(list)\n",
    "\n",
    "for doc in documents:\n",
    "    doc_id = doc['id']\n",
    "    hashes[doc_id].append(doc)"
   ]
  },
  {
   "cell_type": "code",
   "execution_count": 72,
   "id": "a71d0a0f-9345-4eb5-a833-aeb9f64316c1",
   "metadata": {},
   "outputs": [
    {
     "data": {
      "text/plain": [
       "(947, 948)"
      ]
     },
     "execution_count": 72,
     "metadata": {},
     "output_type": "execute_result"
    }
   ],
   "source": [
    "len(hashes), len(documents)"
   ]
  },
  {
   "cell_type": "code",
   "execution_count": 73,
   "id": "46ac3587-cbad-4435-bde8-4c6c0dc85aa3",
   "metadata": {},
   "outputs": [
    {
     "name": "stdout",
     "output_type": "stream",
     "text": [
      "593f7569 2\n"
     ]
    }
   ],
   "source": [
    "for k, values in hashes.items():\n",
    "    if len(values) > 1:\n",
    "        print(k, len(values))"
   ]
  },
  {
   "cell_type": "code",
   "execution_count": 74,
   "id": "e933cf48-e567-4216-a5e8-9865358aa7c5",
   "metadata": {},
   "outputs": [
    {
     "data": {
      "text/plain": [
       "[{'text': \"They both do the same, it's just less typing from the script.\\nAsked by Andrew Katoch, Added by Edidiong Esu\",\n",
       "  'section': '6. Decision Trees and Ensemble Learning',\n",
       "  'question': 'Does it matter if we let the Python file create the server or if we run gunicorn directly?',\n",
       "  'course': 'machine-learning-zoomcamp',\n",
       "  'id': '593f7569'},\n",
       " {'text': \"They both do the same, it's just less typing from the script.\",\n",
       "  'section': '6. Decision Trees and Ensemble Learning',\n",
       "  'question': 'Does it matter if we let the Python file create the server or if we run gunicorn directly?',\n",
       "  'course': 'machine-learning-zoomcamp',\n",
       "  'id': '593f7569'}]"
      ]
     },
     "execution_count": 74,
     "metadata": {},
     "output_type": "execute_result"
    }
   ],
   "source": [
    "hashes['593f7569']"
   ]
  },
  {
   "cell_type": "markdown",
   "id": "11d1ee48-aaa0-4e7f-a085-63bf199b5e2f",
   "metadata": {},
   "source": [
    "# Save the FAQ-Document including id's"
   ]
  },
  {
   "cell_type": "code",
   "execution_count": 75,
   "id": "66df30ea-ab14-4623-a457-0d179c5280cd",
   "metadata": {},
   "outputs": [],
   "source": [
    "import json"
   ]
  },
  {
   "cell_type": "code",
   "execution_count": 76,
   "id": "a3ea672c-a9cb-4200-8ead-f4e8442b0212",
   "metadata": {},
   "outputs": [],
   "source": [
    "with open('documents-with-ids.json', 'wt') as f_out:\n",
    "    json.dump(documents, f_out, indent=2)"
   ]
  },
  {
   "cell_type": "code",
   "execution_count": 77,
   "id": "714ecd56-d88b-47c0-999d-f9006ef86d3c",
   "metadata": {},
   "outputs": [
    {
     "name": "stdout",
     "output_type": "stream",
     "text": [
      "[\n",
      "  {\n",
      "    \"text\": \"The purpose of this document is to capture frequently asked technical questions\\nThe exact day and hour of the course will be 15th Jan 2024 at 17h00. The course will start with the first  \\u201cOffice Hours'' live.1\\nSubscribe to course public Google Calendar (it works from Desktop only).\\nRegister before the course starts using this link.\\nJoin the course Telegram channel with announcements.\\nDon\\u2019t forget to register in DataTalks.Club's Slack and join the channel.\",\n",
      "    \"section\": \"General course-related questions\",\n",
      "    \"question\": \"Course - When will the course start?\",\n",
      "    \"course\": \"data-engineering-zoomcamp\",\n",
      "    \"id\": \"c02e79ef\"\n",
      "  },\n",
      "  {\n",
      "    \"text\": \"GitHub - DataTalksClub data-engineering-zoomcamp#prerequisites\",\n"
     ]
    }
   ],
   "source": [
    "!head documents-with-ids.json"
   ]
  },
  {
   "cell_type": "markdown",
   "id": "69b5d9f8-e300-412c-8ec5-f67afbe8ea69",
   "metadata": {},
   "source": [
    "# Generate 5 user Questions on each document using LLM"
   ]
  },
  {
   "cell_type": "code",
   "execution_count": 22,
   "id": "861513b1-a362-46a7-9e93-36e674cb3a0c",
   "metadata": {},
   "outputs": [],
   "source": [
    "prompt_template = \"\"\"\n",
    "You emulate a student who's taking our course.\n",
    "Formulate 5 questions this student might ask based on a FAQ record. The record\n",
    "should contain the answer to the questions, and the questions should be complete and not too short.\n",
    "If possible, use as fewer words as possible from the record. \n",
    "\n",
    "The record:\n",
    "\n",
    "section: {section}\n",
    "question: {question}\n",
    "answer: {text}\n",
    "\n",
    "Provide the output in parsable JSON without using code blocks:\n",
    "\n",
    "[\"question1\", \"question2\", ..., \"question5\"]\n",
    "\"\"\".strip()"
   ]
  },
  {
   "cell_type": "code",
   "execution_count": 28,
   "id": "2d6a3f65-8962-4af3-b72b-a97f69c8fb05",
   "metadata": {},
   "outputs": [],
   "source": [
    "import os\n",
    "from groq import Groq\n",
    "from dotenv import load_dotenv\n",
    "client = Groq(api_key=os.getenv('GROQ_API_KEY'))"
   ]
  },
  {
   "cell_type": "code",
   "execution_count": 29,
   "id": "eeab6d17-6a14-415c-ae59-082cc7b83a20",
   "metadata": {},
   "outputs": [],
   "source": [
    "def generate_questions(doc):\n",
    "    prompt = prompt_template.format(**doc)\n",
    "\n",
    "    response = client.chat.completions.create(\n",
    "        model='llama3-8b-8192',\n",
    "        messages=[{\"role\": \"user\", \"content\": prompt}]\n",
    "    )\n",
    "\n",
    "    json_response = response.choices[0].message.content\n",
    "    return json_response"
   ]
  },
  {
   "cell_type": "code",
   "execution_count": 31,
   "id": "9569c0fb-41bf-4505-9c81-bf5d42b0a4b1",
   "metadata": {},
   "outputs": [],
   "source": [
    "from tqdm.auto import tqdm"
   ]
  },
  {
   "cell_type": "code",
   "execution_count": 33,
   "id": "00c848a2-1590-43e7-8b50-9619904d786f",
   "metadata": {},
   "outputs": [
    {
     "data": {
      "text/plain": [
       "'Here are the 5 questions this student might ask based on the FAQ record:\\n\\n[\\n  \"What is the exact start date and time of the course?\",\\n  \"How do I stay updated with important course announcements?\",\\n  \"When can I start registering for the course?\",\\n  \"How do I access the course public Google Calendar?\",\\n  \"What online platforms should I use to participate in the course?\"\\n]'"
      ]
     },
     "execution_count": 33,
     "metadata": {},
     "output_type": "execute_result"
    }
   ],
   "source": [
    "generate_questions(documents[0])"
   ]
  },
  {
   "cell_type": "code",
   "execution_count": null,
   "id": "3dbaa510-ac11-4cce-b8f9-01d842eb1552",
   "metadata": {},
   "outputs": [],
   "source": [
    "results = {}\n",
    "\n",
    "for doc in tqdm(documents): \n",
    "    doc_id = doc['id']\n",
    "    if doc_id in results:\n",
    "        continue\n",
    "\n",
    "    questions = generate_questions(doc)\n",
    "    results[doc_id] = questions"
   ]
  },
  {
   "cell_type": "code",
   "execution_count": 78,
   "id": "505d4510-c2bb-4201-86ac-6bc70b8292ca",
   "metadata": {},
   "outputs": [],
   "source": [
    "import pickle\n",
    "\n",
    "with open('results.bin', 'rb') as f_in:\n",
    "    results = pickle.load(f_in)"
   ]
  },
  {
   "cell_type": "code",
   "execution_count": 79,
   "id": "ec8e28b2-ddfe-49d2-95ea-21734b182b46",
   "metadata": {},
   "outputs": [
    {
     "data": {
      "text/plain": [
       "'[\\n\"How can I resolve the Docker error \\'invalid mode: \\\\\\\\Program Files\\\\\\\\Git\\\\\\\\var\\\\\\\\lib\\\\\\\\postgresql\\\\\\\\data\\'?\",\\n\"What should I do if I encounter an invalid mode error in Docker on Windows?\",\\n\"What is the correct mounting path to use in Docker for PostgreSQL data on Windows?\",\\n\"Can you provide an example of a correct Docker mounting path for PostgreSQL data?\",\\n\"How do I correct the mounting path error in Docker for \\\\\\\\\\\\Program Files\\\\\\\\Git\\\\\\\\var\\\\\\\\lib\\\\\\\\postgresql\\\\\\\\data\\'?\"\\n]'"
      ]
     },
     "execution_count": 79,
     "metadata": {},
     "output_type": "execute_result"
    }
   ],
   "source": [
    "results['58c9f99f']"
   ]
  },
  {
   "cell_type": "code",
   "execution_count": 82,
   "id": "130bdb4f-fcb8-46c0-a307-54f555b7761c",
   "metadata": {},
   "outputs": [],
   "source": [
    "results[doc_id] = json.dumps(json_questions)"
   ]
  },
  {
   "cell_type": "code",
   "execution_count": 81,
   "id": "58db551e-50dd-4539-bd17-7f1a47fa8328",
   "metadata": {},
   "outputs": [],
   "source": [
    "json_questions = [\n",
    "r\"How can I resolve the Docker error 'invalid mode: \\Program Files\\Git\\var\\lib\\postgresql\\data'?\",\n",
    "\"What should I do if I encounter an invalid mode error in Docker on Windows?\",\n",
    "\"What is the correct mounting path to use in Docker for PostgreSQL data on Windows?\",\n",
    "\"Can you provide an example of a correct Docker mounting path for PostgreSQL data?\",\n",
    "r\"How do I correct the mounting path error in Docker for \\Program Files\\Git\\var\\lib\\postgresql\\data'?\"\n",
    "]"
   ]
  },
  {
   "cell_type": "code",
   "execution_count": 83,
   "id": "b927e4c0-7303-40b0-890a-858965969db8",
   "metadata": {},
   "outputs": [],
   "source": [
    "parsed_resulst = {}\n",
    "\n",
    "for doc_id, json_questions in results.items():\n",
    "    parsed_resulst[doc_id] = json.loads(json_questions)"
   ]
  },
  {
   "cell_type": "code",
   "execution_count": 84,
   "id": "7298a387-c838-457f-adb0-57c4ea9f3bd4",
   "metadata": {},
   "outputs": [],
   "source": [
    "doc_index = {d['id']: d for d in documents}"
   ]
  },
  {
   "cell_type": "code",
   "execution_count": 85,
   "id": "2cdf94c5-2b2f-4c32-8cde-cc6ede7c2565",
   "metadata": {},
   "outputs": [],
   "source": [
    "final_results = []\n",
    "\n",
    "for doc_id, questions in parsed_resulst.items():\n",
    "    course = doc_index[doc_id]['course']\n",
    "    for q in questions:\n",
    "        final_results.append((q, course, doc_id))"
   ]
  },
  {
   "cell_type": "markdown",
   "id": "eec9b57a-43e0-4b91-b8f1-f293d2bafeb4",
   "metadata": {},
   "source": [
    "# Save the ground-truth-data"
   ]
  },
  {
   "cell_type": "code",
   "execution_count": 86,
   "id": "56eb687d-a549-47f7-bcaf-562786bc24c0",
   "metadata": {},
   "outputs": [],
   "source": [
    "import pandas as pd\n",
    "\n",
    "df = pd.DataFrame(final_results, columns=['question', 'course', 'document'])\n",
    "df.to_csv('ground-truth-data.csv', index=False)"
   ]
  },
  {
   "cell_type": "code",
   "execution_count": 87,
   "id": "a154b7c2-eb04-4da1-a8e0-8a5b550c07b8",
   "metadata": {},
   "outputs": [
    {
     "name": "stdout",
     "output_type": "stream",
     "text": [
      "question,course,document\n",
      "When does the course begin?,data-engineering-zoomcamp,c02e79ef\n",
      "How can I get the course schedule?,data-engineering-zoomcamp,c02e79ef\n",
      "What is the link for course registration?,data-engineering-zoomcamp,c02e79ef\n",
      "How can I receive course announcements?,data-engineering-zoomcamp,c02e79ef\n",
      "Where do I join the Slack channel?,data-engineering-zoomcamp,c02e79ef\n",
      "Where can I find the prerequisites for this course?,data-engineering-zoomcamp,1f6520ca\n",
      "How do I check the prerequisites for this course?,data-engineering-zoomcamp,1f6520ca\n",
      "Where are the course prerequisites listed?,data-engineering-zoomcamp,1f6520ca\n",
      "What are the requirements for joining this course?,data-engineering-zoomcamp,1f6520ca\n"
     ]
    }
   ],
   "source": [
    "!head ground-truth-data.csv"
   ]
  }
 ],
 "metadata": {
  "kernelspec": {
   "display_name": "Python 3 (ipykernel)",
   "language": "python",
   "name": "python3"
  },
  "language_info": {
   "codemirror_mode": {
    "name": "ipython",
    "version": 3
   },
   "file_extension": ".py",
   "mimetype": "text/x-python",
   "name": "python",
   "nbconvert_exporter": "python",
   "pygments_lexer": "ipython3",
   "version": "3.10.13"
  }
 },
 "nbformat": 4,
 "nbformat_minor": 5
}
